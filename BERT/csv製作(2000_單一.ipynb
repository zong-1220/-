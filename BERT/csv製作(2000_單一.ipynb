{
 "cells": [
  {
   "cell_type": "code",
   "execution_count": 1,
   "id": "af5b7c43",
   "metadata": {},
   "outputs": [],
   "source": [
    "import csv\n",
    "import os\n",
    "import pandas as pd\n",
    "import numpy as np\n",
    "import re\n",
    "\n",
    "def file_cleaner(file_open):\n",
    "    file_clean_1 = re.sub('[(（]{0,1}[\\s]{0,1}[0-9一二三四五六七八九十壹貳參肆伍陸柒捌玖拾]{1,2}[\\s]{0,1}[）)、.]{1}','',file_open) #刪除標題性文字\n",
    "    file_clean_2 = file_clean_1.replace('■','').replace('壹、','').replace('致股東報告書','').replace('\\n','').replace(' ','').replace('●','').replace('，',',').replace('│','')\n",
    "    return file_clean_2"
   ]
  },
  {
   "cell_type": "code",
   "execution_count": 73,
   "id": "76e43278",
   "metadata": {
    "scrolled": true
   },
   "outputs": [
    {
     "name": "stdout",
     "output_type": "stream",
     "text": [
      "C:\\Users\\DC\\文字檔轉換csv\\全金融業\\壽險\\16-2833-4.txt\n",
      "C:\\Users\\DC\\文字檔轉換csv\\全金融業\\壽險\\16-2867-4.txt\n",
      "C:\\Users\\DC\\文字檔轉換csv\\全金融業\\壽險\\16-5865-4.txt\n",
      "C:\\Users\\DC\\文字檔轉換csv\\全金融業\\壽險\\16-5873-4.txt\n",
      "C:\\Users\\DC\\文字檔轉換csv\\全金融業\\壽險\\17-2833-4.txt\n",
      "C:\\Users\\DC\\文字檔轉換csv\\全金融業\\壽險\\17-2867-4.txt\n",
      "C:\\Users\\DC\\文字檔轉換csv\\全金融業\\壽險\\17-2876-4.txt\n",
      "C:\\Users\\DC\\文字檔轉換csv\\全金融業\\壽險\\17-5846-4.txt\n",
      "C:\\Users\\DC\\文字檔轉換csv\\全金融業\\壽險\\17-5873-4.txt\n",
      "C:\\Users\\DC\\文字檔轉換csv\\全金融業\\產險\\16-2816-4.txt\n",
      "C:\\Users\\DC\\文字檔轉換csv\\全金融業\\產險\\16-2877-4.txt\n",
      "C:\\Users\\DC\\文字檔轉換csv\\全金融業\\產險\\16-5828-4.txt\n",
      "C:\\Users\\DC\\文字檔轉換csv\\全金融業\\產險\\17-2816-4.txt\n",
      "C:\\Users\\DC\\文字檔轉換csv\\全金融業\\產險\\17-2877-4.txt\n",
      "C:\\Users\\DC\\文字檔轉換csv\\全金融業\\產險\\17-5828-4.txt\n",
      "C:\\Users\\DC\\文字檔轉換csv\\全金融業\\票券\\16-2820-4.txt\n",
      "C:\\Users\\DC\\文字檔轉換csv\\全金融業\\票券\\16-2873-4.txt\n",
      "C:\\Users\\DC\\文字檔轉換csv\\全金融業\\票券\\16-2874-4.txt\n",
      "C:\\Users\\DC\\文字檔轉換csv\\全金融業\\票券\\16-2894-4.txt\n",
      "C:\\Users\\DC\\文字檔轉換csv\\全金融業\\票券\\16-5840-4.txt\n",
      "C:\\Users\\DC\\文字檔轉換csv\\全金融業\\票券\\16-5842-4.txt\n",
      "C:\\Users\\DC\\文字檔轉換csv\\全金融業\\票券\\17-2820-4.txt\n",
      "C:\\Users\\DC\\文字檔轉換csv\\全金融業\\票券\\17-2872-4.txt\n",
      "C:\\Users\\DC\\文字檔轉換csv\\全金融業\\票券\\17-2874-4.txt\n",
      "C:\\Users\\DC\\文字檔轉換csv\\全金融業\\票券\\17-2894-4.txt\n",
      "C:\\Users\\DC\\文字檔轉換csv\\全金融業\\票券\\17-5840-4.txt\n",
      "C:\\Users\\DC\\文字檔轉換csv\\全金融業\\票券\\17-5842-4.txt\n",
      "C:\\Users\\DC\\文字檔轉換csv\\全金融業\\金控\\16-2886-4.txt\n",
      "C:\\Users\\DC\\文字檔轉換csv\\全金融業\\金控\\16-2888-4.txt\n",
      "C:\\Users\\DC\\文字檔轉換csv\\全金融業\\金控\\16-2889-4.txt\n",
      "C:\\Users\\DC\\文字檔轉換csv\\全金融業\\金控\\16-2891-4.txt\n",
      "C:\\Users\\DC\\文字檔轉換csv\\全金融業\\金控\\16-5820-4.txt\n",
      "C:\\Users\\DC\\文字檔轉換csv\\全金融業\\金控\\16-5880-4.txt\n",
      "C:\\Users\\DC\\文字檔轉換csv\\全金融業\\金控\\17-2886-4.txt\n",
      "C:\\Users\\DC\\文字檔轉換csv\\全金融業\\金控\\17-2888-4.txt\n",
      "C:\\Users\\DC\\文字檔轉換csv\\全金融業\\金控\\17-2891-4.txt\n",
      "C:\\Users\\DC\\文字檔轉換csv\\全金融業\\金控\\17-5868-4.txt\n",
      "C:\\Users\\DC\\文字檔轉換csv\\全金融業\\金控\\17-5880-4.txt\n",
      "C:\\Users\\DC\\文字檔轉換csv\\全金融業\\銀行\\16-2801-4.txt\n",
      "C:\\Users\\DC\\文字檔轉換csv\\全金融業\\銀行\\16-2809-4.txt\n",
      "C:\\Users\\DC\\文字檔轉換csv\\全金融業\\銀行\\16-2834-4.txt\n",
      "C:\\Users\\DC\\文字檔轉換csv\\全金融業\\銀行\\16-2836-4.txt\n",
      "C:\\Users\\DC\\文字檔轉換csv\\全金融業\\銀行\\16-2845-4.txt\n",
      "C:\\Users\\DC\\文字檔轉換csv\\全金融業\\銀行\\16-2895-4.txt\n",
      "C:\\Users\\DC\\文字檔轉換csv\\全金融業\\銀行\\16-5830-4.txt\n",
      "C:\\Users\\DC\\文字檔轉換csv\\全金融業\\銀行\\16-5835-4.txt\n",
      "C:\\Users\\DC\\文字檔轉換csv\\全金融業\\銀行\\16-5838-4.txt\n",
      "C:\\Users\\DC\\文字檔轉換csv\\全金融業\\銀行\\16-5843-4.txt\n",
      "C:\\Users\\DC\\文字檔轉換csv\\全金融業\\銀行\\16-5844-4.txt\n",
      "C:\\Users\\DC\\文字檔轉換csv\\全金融業\\銀行\\16-5850-4.txt\n",
      "C:\\Users\\DC\\文字檔轉換csv\\全金融業\\銀行\\16-5854-4.txt\n",
      "C:\\Users\\DC\\文字檔轉換csv\\全金融業\\銀行\\16-5857-4.txt\n",
      "C:\\Users\\DC\\文字檔轉換csv\\全金融業\\銀行\\16-5862-4.txt\n",
      "C:\\Users\\DC\\文字檔轉換csv\\全金融業\\銀行\\16-5876-4.txt\n",
      "C:\\Users\\DC\\文字檔轉換csv\\全金融業\\銀行\\17-2801-4.txt\n",
      "C:\\Users\\DC\\文字檔轉換csv\\全金融業\\銀行\\17-2809-4.txt\n",
      "C:\\Users\\DC\\文字檔轉換csv\\全金融業\\銀行\\17-2834-4.txt\n",
      "C:\\Users\\DC\\文字檔轉換csv\\全金融業\\銀行\\17-2836-4.txt\n",
      "C:\\Users\\DC\\文字檔轉換csv\\全金融業\\銀行\\17-2837-4.txt\n",
      "C:\\Users\\DC\\文字檔轉換csv\\全金融業\\銀行\\17-2838-4.txt\n",
      "C:\\Users\\DC\\文字檔轉換csv\\全金融業\\銀行\\17-2845-4.txt\n",
      "C:\\Users\\DC\\文字檔轉換csv\\全金融業\\銀行\\17-2895-4.txt\n",
      "C:\\Users\\DC\\文字檔轉換csv\\全金融業\\銀行\\17-5830-4.txt\n",
      "C:\\Users\\DC\\文字檔轉換csv\\全金融業\\銀行\\17-5835-4.txt\n",
      "C:\\Users\\DC\\文字檔轉換csv\\全金融業\\銀行\\17-5838-4.txt\n",
      "C:\\Users\\DC\\文字檔轉換csv\\全金融業\\銀行\\17-5844-4.txt\n",
      "C:\\Users\\DC\\文字檔轉換csv\\全金融業\\銀行\\17-5854-4.txt\n",
      "C:\\Users\\DC\\文字檔轉換csv\\全金融業\\銀行\\17-5857-4.txt\n",
      "C:\\Users\\DC\\文字檔轉換csv\\全金融業\\銀行\\17-5862-4.txt\n",
      "C:\\Users\\DC\\文字檔轉換csv\\全金融業\\銀行\\17-5876-4.txt\n"
     ]
    }
   ],
   "source": [
    "all_file = []\n",
    "\n",
    "for root, dirs, files in os.walk('C:\\\\Users\\\\DC\\\\文字檔轉換csv\\\\全金融業'):\n",
    "    for file in files:\n",
    "        if len(file) == 13 and file[8] == '4':\n",
    "            print(root + '\\\\' + file)\n",
    "            all_file.append(root + '\\\\' + file)"
   ]
  },
  {
   "cell_type": "code",
   "execution_count": 74,
   "id": "705b0532",
   "metadata": {},
   "outputs": [],
   "source": [
    "paragraph = []\n",
    "for i in all_file:\n",
    "        file_open = open(i, 'r', encoding='utf-8').read()\n",
    "        paragraph.append([file_cleaner(file_open)]) "
   ]
  },
  {
   "cell_type": "code",
   "execution_count": 75,
   "id": "e1a762d0",
   "metadata": {},
   "outputs": [],
   "source": [
    "for i in range (0,len(paragraph)):\n",
    "    for j in range(0,len(paragraph[i])):\n",
    "        a = len(paragraph[i][j])\n",
    "        comma = [i for i,v in enumerate(paragraph[i][j]) if v==',']\n",
    "        if a < 4000:\n",
    "            index_comma = comma[round(len(comma)/2)]\n",
    "            paragraph[i][j] = paragraph[i][j][:index_comma] + '│' + paragraph[i][j][(index_comma+1):]\n",
    "            p1 = paragraph[i][j].split('│')[0]\n",
    "            p2 = paragraph[i][j].split('│')[1]\n",
    "            paragraph[i][j] = p1\n",
    "            paragraph[i].insert(j+1,p2)\n",
    "        elif 4000 <= a < 8000:\n",
    "            index_comma_1 = comma[round(len(comma)*0.25)]\n",
    "            index_comma_2 = comma[round(len(comma)*0.5)]\n",
    "            index_comma_3 = comma[round(len(comma)*0.75)]\n",
    "            paragraph[i][j] = paragraph[i][j][:index_comma_1] + '│' + paragraph[i][j][(index_comma_1+1):index_comma_2] + '│' + paragraph[i][j][(index_comma_2+1):index_comma_3] + '│' + paragraph[i][j][(index_comma_3+1):]\n",
    "            p1 = paragraph[i][j].split('│')[0]\n",
    "            p2 = paragraph[i][j].split('│')[1]\n",
    "            p3 = paragraph[i][j].split('│')[2]\n",
    "            p4 = paragraph[i][j].split('│')[3]\n",
    "            paragraph[i][j] = p1\n",
    "            paragraph[i].insert(j+1,p2)\n",
    "            paragraph[i].insert(j+2,p3)\n",
    "            paragraph[i].insert(j+3,p4)\n",
    "        elif 8000 <= a < 12000:\n",
    "            index_comma_1 = comma[round(len(comma)*0.125)]\n",
    "            index_comma_2 = comma[round(len(comma)*0.25)]\n",
    "            index_comma_3 = comma[round(len(comma)*0.375)]\n",
    "            index_comma_4 = comma[round(len(comma)*0.5)]\n",
    "            index_comma_5 = comma[round(len(comma)*0.625)]\n",
    "            index_comma_6 = comma[round(len(comma)*0.75)]\n",
    "            index_comma_7 = comma[round(len(comma)*0.825)]      \n",
    "            paragraph[i][j] = paragraph[i][j][:index_comma_1] + '│' + paragraph[i][j][(index_comma_1+1):index_comma_2] + '│' + paragraph[i][j][(index_comma_2+1):index_comma_3] + '│' + paragraph[i][j][(index_comma_3+1):index_comma_4] + '│' + paragraph[i][j][(index_comma_4+1):index_comma_5] + '│' + paragraph[i][j][(index_comma_5+1):index_comma_6] + '│' + paragraph[i][j][(index_comma_6+1):index_comma_7] + '│' + paragraph[i][j][(index_comma_7+1):]\n",
    "            p1 = paragraph[i][j].split('│')[0]\n",
    "            p2 = paragraph[i][j].split('│')[1]\n",
    "            p3 = paragraph[i][j].split('│')[2]\n",
    "            p4 = paragraph[i][j].split('│')[3]\n",
    "            p5 = paragraph[i][j].split('│')[4]\n",
    "            p6 = paragraph[i][j].split('│')[5]\n",
    "            p7 = paragraph[i][j].split('│')[6]\n",
    "            p8 = paragraph[i][j].split('│')[7]\n",
    "            paragraph[i][j] = p1\n",
    "            paragraph[i].insert(j+1,p2)\n",
    "            paragraph[i].insert(j+2,p3)\n",
    "            paragraph[i].insert(j+3,p4)\n",
    "            paragraph[i].insert(j+4,p5)\n",
    "            paragraph[i].insert(j+5,p6)\n",
    "            paragraph[i].insert(j+6,p7)\n",
    "            paragraph[i].insert(j+7,p8)\n",
    "        else:\n",
    "            print(\"出錯\" + i)"
   ]
  },
  {
   "cell_type": "code",
   "execution_count": 76,
   "id": "e2cefdc8",
   "metadata": {},
   "outputs": [],
   "source": [
    "text_open = []\n",
    "for i in range(0,len(paragraph)):\n",
    "    for j in range(0,len(paragraph[i])):\n",
    "        text_open.append(paragraph[i][j])  #展開填進text_open\n",
    "        \n",
    "text_n = []\n",
    "for i in range(0,len(paragraph)):\n",
    "    text_n.append(int(len(paragraph[i]))) #單一段落句子數\n",
    "\n",
    "year =[]\n",
    "for y in range(0,len(all_file)):\n",
    "    for i in range(0,(text_n[y])):\n",
    "        year.append(('20' + all_file[y][29:31])) #選出年份\n",
    "        \n",
    "co_id =[]\n",
    "\n",
    "for c in range(0,len(all_file)):\n",
    "    for i in range(0,(text_n[c])):\n",
    "        co_id.append((all_file[c][32:36]))  #選出公司代碼"
   ]
  },
  {
   "cell_type": "code",
   "execution_count": 77,
   "id": "1d0fc2f9",
   "metadata": {},
   "outputs": [
    {
     "data": {
      "text/plain": [
       "'16'"
      ]
     },
     "execution_count": 77,
     "metadata": {},
     "output_type": "execute_result"
    }
   ],
   "source": [
    "all_file[0][29:31]"
   ]
  },
  {
   "cell_type": "code",
   "execution_count": 78,
   "id": "6c88459d",
   "metadata": {},
   "outputs": [
    {
     "name": "stdout",
     "output_type": "stream",
     "text": [
      "142\n",
      "142\n",
      "142\n",
      "70\n",
      "70\n"
     ]
    }
   ],
   "source": [
    "print(len(year))\n",
    "print(len(co_id))\n",
    "print(len(text_open))\n",
    "print(len(all_file))\n",
    "print(len(paragraph))"
   ]
  },
  {
   "cell_type": "code",
   "execution_count": 79,
   "id": "fc95ea58",
   "metadata": {},
   "outputs": [],
   "source": [
    "with open('segmented_4.csv', 'w', newline='',encoding='utf-8-sig') as test_file:\n",
    "    writer = csv.writer(test_file)\n",
    "    writer.writerow(['company']+['year']+['sentences'])\n",
    "    for x,y,z in zip(co_id,year,text_open):\n",
    "        writer.writerow([x]+[y]+[z])         #生成檔案後手動加入裁罰的lable   "
   ]
  },
  {
   "cell_type": "code",
   "execution_count": 80,
   "id": "759d5309",
   "metadata": {},
   "outputs": [],
   "source": [
    "df = pd.read_csv(\"segmented_all_lable.csv\")\n",
    "pena = df.values.tolist() #裁罰的lable整個轉為list"
   ]
  },
  {
   "cell_type": "code",
   "execution_count": 81,
   "id": "a8b71844",
   "metadata": {},
   "outputs": [],
   "source": [
    "with open('segmented_4.csv', 'w', newline='',encoding='utf-8-sig') as test_file:\n",
    "    writer = csv.writer(test_file)\n",
    "    writer.writerow(['company']+['year']+['text_a']+['pena_n']+['label'])\n",
    "    for x,y,z,p in zip(co_id,year,text_open,pena):\n",
    "        writer.writerow([x]+[y]+[z]+p)        #合併    "
   ]
  },
  {
   "cell_type": "code",
   "execution_count": 57,
   "id": "52194e33",
   "metadata": {},
   "outputs": [
    {
     "name": "stdout",
     "output_type": "stream",
     "text": [
      "中信金控自100年11月接手大都會國際人壽(該公司於101年1月更名為中國信託人壽保險股份有限公司,以下簡稱中信人壽),中信人壽又於103年併購宏利人壽台灣分公司\n"
     ]
    }
   ],
   "source": [
    "print(text_ab[0][1])"
   ]
  },
  {
   "cell_type": "code",
   "execution_count": null,
   "id": "d591c87f",
   "metadata": {},
   "outputs": [],
   "source": []
  }
 ],
 "metadata": {
  "kernelspec": {
   "display_name": "Python 3 (ipykernel)",
   "language": "python",
   "name": "python3"
  },
  "language_info": {
   "codemirror_mode": {
    "name": "ipython",
    "version": 3
   },
   "file_extension": ".py",
   "mimetype": "text/x-python",
   "name": "python",
   "nbconvert_exporter": "python",
   "pygments_lexer": "ipython3",
   "version": "3.9.7"
  }
 },
 "nbformat": 4,
 "nbformat_minor": 5
}
