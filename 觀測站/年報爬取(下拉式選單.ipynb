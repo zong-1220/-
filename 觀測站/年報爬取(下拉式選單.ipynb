{
 "cells": [
  {
   "cell_type": "code",
   "execution_count": 3,
   "metadata": {},
   "outputs": [
    {
     "name": "stdout",
     "output_type": "stream",
     "text": [
      "Collecting selenium\n",
      "  Downloading selenium-3.141.0-py2.py3-none-any.whl (904 kB)\n",
      "Requirement already satisfied: urllib3 in c:\\programdata\\anaconda3\\lib\\site-packages (from selenium) (1.26.4)\n",
      "Installing collected packages: selenium\n",
      "Successfully installed selenium-3.141.0\n"
     ]
    }
   ],
   "source": [
    "#兩項為必須安裝之套件\n",
    "!pip install selenium\n",
    "!pip install pypiwin32"
   ]
  },
  {
   "cell_type": "code",
   "execution_count": 1,
   "metadata": {},
   "outputs": [],
   "source": [
    "from selenium import webdriver\n",
    "import time\n",
    "from selenium.webdriver.support.ui import Select\n",
    "from selenium.webdriver.common.action_chains import ActionChains\n",
    "import win32api\n",
    "import win32con\n",
    "import os\n",
    "from os import walk\n",
    "\n",
    "\n",
    "#公司代碼和年份的list\n",
    "year_list = [109,110]\n",
    "co_id_list = []\n",
    "for root, dirs, files in os.walk(\"D:\\pdf\"):\n",
    "    for name in dirs:\n",
    "        co_id_list.append(name)\n",
    "del co_id_list[0:32]\n",
    "#刪除32個產業分類的名字\n",
    "\n"
   ]
  },
  {
   "cell_type": "code",
   "execution_count": 16,
   "metadata": {},
   "outputs": [
    {
     "data": {
      "text/plain": [
       "83"
      ]
     },
     "execution_count": 16,
     "metadata": {},
     "output_type": "execute_result"
    }
   ],
   "source": [
    "co_id_list.index('8937') #下一開始"
   ]
  },
  {
   "cell_type": "code",
   "execution_count": 17,
   "metadata": {},
   "outputs": [],
   "source": [
    "del co_id_list[0:83]"
   ]
  },
  {
   "cell_type": "code",
   "execution_count": 18,
   "metadata": {},
   "outputs": [
    {
     "data": {
      "text/plain": [
       "'8937'"
      ]
     },
     "execution_count": 18,
     "metadata": {},
     "output_type": "execute_result"
    }
   ],
   "source": [
    "co_id_list[0] "
   ]
  },
  {
   "cell_type": "code",
   "execution_count": 19,
   "metadata": {},
   "outputs": [],
   "source": [
    "del co_id_list[0]"
   ]
  },
  {
   "cell_type": "code",
   "execution_count": 20,
   "metadata": {},
   "outputs": [
    {
     "data": {
      "text/plain": [
       "45"
      ]
     },
     "execution_count": 20,
     "metadata": {},
     "output_type": "execute_result"
    }
   ],
   "source": [
    "len(co_id_list)"
   ]
  },
  {
   "cell_type": "code",
   "execution_count": 21,
   "metadata": {},
   "outputs": [
    {
     "name": "stderr",
     "output_type": "stream",
     "text": [
      "<ipython-input-21-03e491cd3298>:4: DeprecationWarning: use options instead of chrome_options\n",
      "  driver = webdriver.Chrome(chrome_options=chrome_options)  #呼叫Chrome()並放入等號左邊的driver，括號內放入option設定內容。\n"
     ]
    },
    {
     "name": "stdout",
     "output_type": "stream",
     "text": [
      "9942 且 109 為zip檔，檔名為t57sb01(0)\n",
      "9103 且 110 為zip檔，檔名為t57sb01(1)\n",
      "910322 且 110 為zip檔，檔名為t57sb01(2)\n",
      "不存在編號 910482 且 110 年的資料\n",
      "不存在編號 910861 且 109 年的資料\n",
      "不存在編號 910861 且 110 年的資料\n",
      "不存在編號 9110 且 110 年的資料\n",
      "不存在編號 911616 且 110 年的資料\n",
      "不存在編號 912398 且 109 年的資料\n",
      "不存在編號 912398 且 110 年的資料\n",
      "不存在編號 9157 且 109 年的資料\n",
      "不存在編號 9157 且 110 年的資料\n"
     ]
    }
   ],
   "source": [
    "chrome_options = webdriver.ChromeOptions()  #限制Chrome瀏覽器不跳出通知訊息，以利畫面爬取任務。\n",
    "prefs = {\"profile.default_content_setting_values.notifications\" : 2}\n",
    "chrome_options.add_experimental_option(\"prefs\",prefs)\n",
    "driver = webdriver.Chrome(chrome_options=chrome_options)  #呼叫Chrome()並放入等號左邊的driver，括號內放入option設定內容。\n",
    "\n",
    "zip_n = 0\n",
    "\n",
    "for c in co_id_list:\n",
    "    for y in year_list:\n",
    "        url = 'https://doc.twse.com.tw/server-java/t57sb01'\n",
    "        driver.get(url)  #在get()中放入網址\n",
    "        driver.find_element_by_name(\"co_id\").send_keys(str(c))\n",
    "        time.sleep(1)\n",
    "        driver.find_element_by_name(\"year\").send_keys(str(y))\n",
    "        time.sleep(2)\n",
    "        mt = Select(driver.find_element_by_name('mtype'))\n",
    "        mt.select_by_index(6)\n",
    "        time.sleep(2)\n",
    "        dt = Select(driver.find_element_by_name('dtype'))\n",
    "        dt.select_by_value(\"F04\")\n",
    "        time.sleep(2)\n",
    "        driver.find_element_by_xpath(\"/html/body/center/form/table[2]/tbody/tr[5]/td/a\").click() #進到公司的pdf資料\n",
    "        time.sleep(2)\n",
    "        try:\n",
    "            driver.find_element_by_xpath(\"/html/body/center/form/table[2]/tbody/tr[2]/td[8]/a\").click() #進到可另存的網頁\n",
    "            time.sleep(2)\n",
    "            windows=driver.window_handles  #獲得當前瀏覽器所有視窗\n",
    "            driver.switch_to.window(windows[-1]) #切換到最新開啟視窗\n",
    "            time.sleep(2)\n",
    "            try:\n",
    "                file = driver.find_element_by_partial_link_text('F04.pdf')\n",
    "                ActionChains(driver).context_click(file).perform() #點擊右鍵\n",
    "                time.sleep(2)\n",
    "                win32api.keybd_event(75, 0, 0, 0) #按下K鍵\n",
    "                time.sleep(1)\n",
    "                win32api.keybd_event(75, 0, win32con.KEYEVENTF_KEYUP, 0) #抬起K鍵\n",
    "                os.system(\"table.exe\") #每台電腦設定皆不一樣，有需要的話需做修改\n",
    "                # 呼叫exe檔案後，延時5秒\n",
    "                time.sleep(5)\n",
    "                driver.close()\n",
    "                driver.switch_to.window(windows[0]) #回到原本視窗\n",
    "            except:\n",
    "                print(str(c)+\" 且 \"+str(y)+\" 為zip檔，檔名為t57sb01(\"+str(zip_n)+\")\")\n",
    "                zip_n = zip_n+ 1\n",
    "                driver.back()\n",
    "        except:\n",
    "            driver.find_element_by_xpath(\"/html/body/center/h4/font\")\n",
    "            print(\"不存在編號 \"+str(c)+\" 且 \"+str(y)+\" 年的資料\")\n",
    "            driver.back()"
   ]
  },
  {
   "cell_type": "code",
   "execution_count": null,
   "metadata": {},
   "outputs": [],
   "source": [
    "不存在編號 4415 且 109 年的資料\n",
    "不存在編號 4415 且 110 年的資料\n",
    "不存在編號 1787 且 109 年的資料\n",
    "不存在編號 1787 且 110 年的資料\n",
    "不存在編號 4725 且 110 年的資料\n",
    "不存在編號 4144 且 110 年的資料\n",
    "不存在編號 4180 且 109 年的資料\n",
    "不存在編號 4180 且 110 年的資料\n",
    "不存在編號 6497 且 110 年的資料\n",
    "不存在編號 1902 且 109 年的資料\n",
    "不存在編號 1902 且 110 年的資料\n",
    "不存在編號 5317 且 109 年的資料\n",
    "不存在編號 5317 且 110 年的資料\n",
    "不存在編號 5349 且 110 年的資料\n",
    "不存在編號 8287 且 110 年的資料\n",
    "不存在編號 6238 且 110 年的資料\n",
    "不存在編號 1262 且 109 年的資料\n",
    "不存在編號 1262 且 110 年的資料\n",
    "不存在編號 8497 且 110 年的資料\n",
    "不存在編號 8913 且 109 年的資料\n",
    "不存在編號 8913 且 110 年的資料\n",
    "不存在編號 8934 且 110 年的資料\n",
    "不存在編號 910482 且 110 年的資料\n",
    "不存在編號 910861 且 109 年的資料\n",
    "不存在編號 910861 且 110 年的資料\n",
    "不存在編號 9110 且 110 年的資料\n",
    "不存在編號 911616 且 110 年的資料\n",
    "不存在編號 912398 且 109 年的資料\n",
    "不存在編號 912398 且 110 年的資料\n",
    "不存在編號 9157 且 109 年的資料\n",
    "不存在編號 9157 且 110 年的資料"
   ]
  }
 ],
 "metadata": {
  "kernelspec": {
   "display_name": "Python 3 (ipykernel)",
   "language": "python",
   "name": "python3"
  },
  "language_info": {
   "codemirror_mode": {
    "name": "ipython",
    "version": 3
   },
   "file_extension": ".py",
   "mimetype": "text/x-python",
   "name": "python",
   "nbconvert_exporter": "python",
   "pygments_lexer": "ipython3",
   "version": "3.9.7"
  }
 },
 "nbformat": 4,
 "nbformat_minor": 4
}
