{
 "cells": [
  {
   "cell_type": "code",
   "execution_count": 1,
   "id": "bae0b560",
   "metadata": {},
   "outputs": [
    {
     "name": "stdout",
     "output_type": "stream",
     "text": [
      "Collecting PyPDF2\n",
      "  Downloading PyPDF2-1.26.0.tar.gz (77 kB)\n",
      "Building wheels for collected packages: PyPDF2\n",
      "  Building wheel for PyPDF2 (setup.py): started\n",
      "  Building wheel for PyPDF2 (setup.py): finished with status 'done'\n",
      "  Created wheel for PyPDF2: filename=PyPDF2-1.26.0-py3-none-any.whl size=61101 sha256=43cec3cee895b075c34db41814978f25ce5deb1af6c05b4409ce4ec6a6defe42\n",
      "  Stored in directory: c:\\users\\dc\\appdata\\local\\pip\\cache\\wheels\\d9\\dc\\ec\\72da68331f30074b9950c1737c23cb8a67484e61498bc9713d\n",
      "Successfully built PyPDF2\n",
      "Installing collected packages: PyPDF2\n",
      "Successfully installed PyPDF2-1.26.0\n"
     ]
    }
   ],
   "source": [
    "!pip install PyPDF2"
   ]
  },
  {
   "cell_type": "code",
   "execution_count": 2,
   "id": "ae5d690a",
   "metadata": {},
   "outputs": [
    {
     "name": "stdout",
     "output_type": "stream",
     "text": [
      "Collecting pdfminer\n",
      "  Downloading pdfminer-20191125.tar.gz (4.2 MB)\n",
      "Collecting pycryptodome\n",
      "  Downloading pycryptodome-3.12.0-cp35-abi3-win_amd64.whl (1.8 MB)\n",
      "Building wheels for collected packages: pdfminer\n",
      "  Building wheel for pdfminer (setup.py): started\n",
      "  Building wheel for pdfminer (setup.py): finished with status 'done'\n",
      "  Created wheel for pdfminer: filename=pdfminer-20191125-py3-none-any.whl size=6140136 sha256=efe14a9612ca2c216fa9eae17eb558a40f9e0a3c126b8152fd615bbae1ca3813\n",
      "  Stored in directory: c:\\users\\dc\\appdata\\local\\pip\\cache\\wheels\\d1\\aa\\48\\370f83a970d62355a2a47d2d640094a64eea932c22edae1891\n",
      "Successfully built pdfminer\n",
      "Installing collected packages: pycryptodome, pdfminer\n",
      "Successfully installed pdfminer-20191125 pycryptodome-3.12.0\n"
     ]
    }
   ],
   "source": [
    "!pip install pdfminer"
   ]
  },
  {
   "cell_type": "code",
   "execution_count": 3,
   "id": "a1d791c5",
   "metadata": {},
   "outputs": [
    {
     "name": "stdout",
     "output_type": "stream",
     "text": [
      "Collecting pdfplumber\n",
      "  Downloading pdfplumber-0.6.0.tar.gz (46 kB)\n",
      "Collecting pdfminer.six==20211012\n",
      "  Downloading pdfminer.six-20211012-py3-none-any.whl (5.6 MB)\n",
      "Requirement already satisfied: Pillow>=8.4 in c:\\users\\dc\\anaconda3\\lib\\site-packages (from pdfplumber) (8.4.0)\n",
      "Collecting Wand>=0.6.7\n",
      "  Downloading Wand-0.6.7-py2.py3-none-any.whl (139 kB)\n",
      "Requirement already satisfied: chardet in c:\\users\\dc\\anaconda3\\lib\\site-packages (from pdfminer.six==20211012->pdfplumber) (4.0.0)\n",
      "Requirement already satisfied: cryptography in c:\\users\\dc\\anaconda3\\lib\\site-packages (from pdfminer.six==20211012->pdfplumber) (3.4.8)\n",
      "Requirement already satisfied: cffi>=1.12 in c:\\users\\dc\\anaconda3\\lib\\site-packages (from cryptography->pdfminer.six==20211012->pdfplumber) (1.14.6)\n",
      "Requirement already satisfied: pycparser in c:\\users\\dc\\anaconda3\\lib\\site-packages (from cffi>=1.12->cryptography->pdfminer.six==20211012->pdfplumber) (2.20)\n",
      "Building wheels for collected packages: pdfplumber\n",
      "  Building wheel for pdfplumber (setup.py): started\n",
      "  Building wheel for pdfplumber (setup.py): finished with status 'done'\n",
      "  Created wheel for pdfplumber: filename=pdfplumber-0.6.0-py3-none-any.whl size=33688 sha256=bb5f9ba2699e91d3737cfd7dd8481cecf0881cdc21796d0e11c884a0a7ac440f\n",
      "  Stored in directory: c:\\users\\dc\\appdata\\local\\pip\\cache\\wheels\\d9\\28\\db\\b9560dc712489797249930c9252d6966e7d6c8c45fe16e909f\n",
      "Successfully built pdfplumber\n",
      "Installing collected packages: Wand, pdfminer.six, pdfplumber\n",
      "Successfully installed Wand-0.6.7 pdfminer.six-20211012 pdfplumber-0.6.0\n"
     ]
    }
   ],
   "source": [
    "!pip install pdfplumber"
   ]
  },
  {
   "cell_type": "code",
   "execution_count": 40,
   "id": "231fee1c",
   "metadata": {},
   "outputs": [
    {
     "name": "stdout",
     "output_type": "stream",
     "text": [
      "公司簡介 \n",
      " \n",
      " \n",
      "壹、致股東報告書\n",
      " \n",
      "壹、2019 年國際暨國內經濟情勢回顧                                                                 \n",
      "2019年國際經濟情勢回顧 \n",
      "    回顧2019年國際經濟情勢，受到美中貿易紛爭未歇、地緣政治風險升溫，以及新興市 \n",
      "場經濟表現不振影響，全球經濟成長動力弱化，國際原物料價格普遍走緩，加上比較基期 \n",
      "偏高，使得2019年主要國家外貿數據疲弱、廠商投資和營運趨向保守、製造業表現不佳， \n",
      "歐洲則因為英國脫歐期限，和歐洲央行停止量化寬鬆，不確定性大增。 \n",
      "    觀察各主要經濟體表現，中國大陸2019 年經濟成長放緩，主要受美中貿易衝突、政 \n",
      "府對非銀行金融機構監管以抑制債務風險，以及勞動力增長減緩影響所致，全年經濟成長 \n",
      "為 6.1%，比2018年少0.6個百分點；美國因財政刺激效果遞減、美中貿易戰的不確定因素 \n",
      "，降低企業投資意願而致經濟成長減速；歐元區則是因為出口需求和供給面的不利影響交 \n",
      "互作用，導致工業生產年減 1.7%，尤以德國、義大利衝擊較大；日本是少數經濟成長幅度 \n",
      "比較顯著的國家，主因是民間消費略為活絡，和政府擴大財政支出，抵銷了消費稅調升的 \n",
      "不利影響。 \n",
      "    根據國際貨幣基金（IMF）所發布的世界經濟展望報告，2019年全球經濟成長率為 \n",
      "2.9％，與2018年相比，明顯減緩 0.7 個百分點，創10年來最低紀錄。 \n",
      "2019年國內經濟情勢回顧 \n",
      "    2019年，全球經濟受到美中貿易對峙僵局延續，和海外需求疲軟等因素的影響，成長\n",
      "動能明顯轉弱，不過臺灣受益於貿易轉單效應、臺商回流投資升溫、以及半導體設備投資\n",
      "擴增等因素，帶動內需成長，使得消費回溫、投資增加。 \n",
      "消費部分，汽機車買氣熱絡、其他消費品項支出提升、零售和餐飲業營業額屢創新高，內\n",
      "需動能增強，但批發業受貿易摩擦影響，需求減緩，壓低銷售力道；投資方面，因企業挹\n",
      "注更多設備投資，加上近來半導體業擴增先進製程產能，有助提升經濟成長。至於物價，\n",
      "因國際商品市場價格持續疲軟，臺灣2019 年消費者物價指數（CPI），漲幅為 0.56%，是近\n",
      "4年來最低漲幅，整體物價溫和平穩；在躉售物價指數（WPI）方面，2019 年下跌 2.24%，\n",
      "主要是受到化學材料、基本金屬價格下跌影響所致。 \n",
      "    根據行政院主計總處統計，2019 年全年經濟成長率為 2.71％，與 2018 年相比，增加\n",
      "0.08個百分點；而瑞士洛桑管理學院（IMD）最新公布的「2020 年 IMD世界競爭力年報」，\n",
      "在全球……(等待報告公布中) \n",
      "2019年公司營業表現 \n",
      "一、2019年中國大陸整體水泥消耗量約 23.3 億公噸，較2018年增長 6.1%。同年本公司轉\n",
      "投資大陸地區公司熟料總產量為 2,484 萬公噸，較 2018年成長0.17 %；水泥、熟料及\n",
      "礦渣粉合計銷售量為 3,083萬公噸，較 2018年衰退0.39%。  \n",
      "2019年亞洲水泥（中國）控股公司【下稱亞泥（中國）】歸屬該公司擁有人之稅後淨\n",
      "利為新臺幣（以下同）14,106,889 仟元，本公司及子公司合計認列了 10,156,960 仟元\n",
      "- 1 - \n"
     ]
    }
   ],
   "source": [
    "import pdfplumber\n",
    "\n",
    "with pdfplumber.open(r'C:\\Users\\DC\\辰瑜的論文\\年報108-109年\\M1100水泥工業\\1102\\2019_1102_20200623F04_20211212_154547.pdf') as pdf:\n",
    "    page = pdf.pages[4]\n",
    "    print(page.extract_text())"
   ]
  },
  {
   "cell_type": "code",
   "execution_count": 58,
   "id": "9fd6d24f",
   "metadata": {},
   "outputs": [],
   "source": [
    "start = 4\n",
    "end = 7"
   ]
  },
  {
   "cell_type": "code",
   "execution_count": 14,
   "id": "81992470",
   "metadata": {},
   "outputs": [
    {
     "data": {
      "text/plain": [
       "<generator object PDFPage.get_pages at 0x000002AE62690970>"
      ]
     },
     "execution_count": 14,
     "metadata": {},
     "output_type": "execute_result"
    }
   ],
   "source": [
    "from pdfminer.pdfpage import PDFPage\n",
    "PDFPage.get_pages(r'C:\\Users\\DC\\辰瑜的論文\\年報108-109年\\M1100水泥工業\\1102\\2019_1102_20200623F04_20211212_154547.pdf')"
   ]
  },
  {
   "cell_type": "code",
   "execution_count": 61,
   "id": "d7f725a1",
   "metadata": {},
   "outputs": [
    {
     "name": "stdout",
     "output_type": "stream",
     "text": [
      "4\n",
      "5\n",
      "6\n"
     ]
    }
   ],
   "source": [
    "for i in range(start,end):\n",
    "    print(i)"
   ]
  },
  {
   "cell_type": "code",
   "execution_count": 68,
   "id": "395b404f",
   "metadata": {},
   "outputs": [],
   "source": []
  },
  {
   "cell_type": "code",
   "execution_count": 69,
   "id": "a80e0768",
   "metadata": {},
   "outputs": [
    {
     "data": {
      "text/plain": [
       "'公司簡介   壹、致股東報告書 壹、2019 年國際暨國內經濟情勢回顧                                                                 2019年國際經濟情勢回顧     回顧2019年國際經濟情勢，受到美中貿易紛爭未歇、地緣政治風險升溫，以及新興市 場經濟表現不振影響，全球經濟成長動力弱化，國際原物料價格普遍走緩，加上比較基期 偏高，使得2019年主要國家外貿數據疲弱、廠商投資和營運趨向保守、製造業表現不佳， 歐洲則因為英國脫歐期限，和歐洲央行停止量化寬鬆，不確定性大增。     觀察各主要經濟體表現，中國大陸2019 年經濟成長放緩，主要受美中貿易衝突、政 府對非銀行金融機構監管以抑制債務風險，以及勞動力增長減緩影響所致，全年經濟成長 為 6.1%，比2018年少0.6個百分點；美國因財政刺激效果遞減、美中貿易戰的不確定因素 ，降低企業投資意願而致經濟成長減速；歐元區則是因為出口需求和供給面的不利影響交 互作用，導致工業生產年減 1.7%，尤以德國、義大利衝擊較大；日本是少數經濟成長幅度 比較顯著的國家，主因是民間消費略為活絡，和政府擴大財政支出，抵銷了消費稅調升的 不利影響。     根據國際貨幣基金（IMF）所發布的世界經濟展望報告，2019年全球經濟成長率為 2.9％，與2018年相比，明顯減緩 0.7 個百分點，創10年來最低紀錄。 2019年國內經濟情勢回顧     2019年，全球經濟受到美中貿易對峙僵局延續，和海外需求疲軟等因素的影響，成長動能明顯轉弱，不過臺灣受益於貿易轉單效應、臺商回流投資升溫、以及半導體設備投資擴增等因素，帶動內需成長，使得消費回溫、投資增加。 消費部分，汽機車買氣熱絡、其他消費品項支出提升、零售和餐飲業營業額屢創新高，內需動能增強，但批發業受貿易摩擦影響，需求減緩，壓低銷售力道；投資方面，因企業挹注更多設備投資，加上近來半導體業擴增先進製程產能，有助提升經濟成長。至於物價，因國際商品市場價格持續疲軟，臺灣2019 年消費者物價指數（CPI），漲幅為 0.56%，是近4年來最低漲幅，整體物價溫和平穩；在躉售物價指數（WPI）方面，2019 年下跌 2.24%，主要是受到化學材料、基本金屬價格下跌影響所致。     根據行政院主計總處統計，2019 年全年經濟成長率為 2.71％，與 2018 年相比，增加0.08個百分點；而瑞士洛桑管理學院（IMD）最新公布的「2020 年 IMD世界競爭力年報」，在全球……(等待報告公布中) 2019年公司營業表現 一、2019年中國大陸整體水泥消耗量約 23.3 億公噸，較2018年增長 6.1%。同年本公司轉投資大陸地區公司熟料總產量為 2,484 萬公噸，較 2018年成長0.17 %；水泥、熟料及礦渣粉合計銷售量為 3,083萬公噸，較 2018年衰退0.39%。  2019年亞洲水泥（中國）控股公司【下稱亞泥（中國）】歸屬該公司擁有人之稅後淨利為新臺幣（以下同）14,106,889 仟元，本公司及子公司合計認列了 10,156,960 仟元- 1 - 的投資利益。 二、國內水泥產業方面，依據臺灣區水泥工業同業公會統計，2019 年各同業公司合計生產水泥 11,267,211公噸，較2018年增加3.00%，其中內銷 9,054,712公噸，外銷 2,321,014公噸，與 2018 年比較，內銷增加 5.60%，外銷減少 2.43%。本公司 2019 年內銷水泥 2,564,176公噸，占國產業者 28.32%，占全台水泥消耗量的 22.59%。2019年國內房地產景氣微幅成長，與 2018 年相比呈現量增價持平的局面，水泥消耗量為  11,350,017公噸，較 2018 年增加 6.53%，每人年平均消耗量為 482 公斤，較 2018 年的 435 公斤增加10.80%，整體市場呈現穩定成長的現象。 三、本公司 2019 年合併營業收入為新臺幣（以下同）89,347,637 仟元，較 2018 年成長  7.98%，合併營業利益 22,063,176仟元，較 2018年成長21.54%。另本公司按權益法認列之轉投資事業，主要為中國山水水泥、遠東新世紀及裕民航運等公司，共認列投資利益 5,490,375 仟元，總計合併稅後純益 22,243,953 仟元，稅後純益率 24.90%，合併稅後純益歸屬於本公司業主為 17,459,673 仟元。2019 年盈餘分派，經本公司第 26 屆董事會第12次會議議定，每股分配現金股利 3.0元。 貳、2019 年經營績效 一、生產部分︰      單位︰仟公噸       項 目 水  泥  較2018年增(減)  ％  熟  料  較2018年增(減)  ％ 公司別  亞泥(臺灣)  3,536  76  2.20  3,386  69  2.08 ＊關鍵績效指標：水泥生產總量為3,536仟公噸，計畫生產總量為3,630仟公噸，達成率為97.41%；                 熟料生產總量為3,386仟公噸，計畫生產總量為3,549仟公噸，達成率為95.41%。     單位︰仟公噸       項 目 水  泥  較2018年增(減)  ％  熟  料  較2018年增(減)  ％ 公司別 亞泥(中國)  28,747  (296)  (1.02)  24,843  42  0.17 ＊關鍵績效指標：水泥生產總量為28,747仟公噸，計畫生產總量為28,624仟公噸，達成率為100.43% ；                 熟料生產總量為24,843仟公噸，計畫生產總量為24,170仟公噸，達成率為102.78%。 二、銷售部分︰ 亞泥(臺灣)                                                             單位：仟公噸，新臺幣仟元       量 值  2019年 較2018年增(減)       內        銷              外             銷              產 品     量  值  量  值   量  ％  值  ％ 水泥、熟料  2,608  5,792,210  1,039  1,835,779  135  3.84  391,991  5.42 ＊關鍵績效指標：自產水泥、熟料銷售總量為3,647仟公噸，計畫銷售總量為3,800仟公噸，達成率為95.97%。 亞泥(中國)                                                             單位：仟公噸，新臺幣仟元       量 值  2019年 較2018年增(減)       內        銷              外             銷              產 品     量  值  量  值  量  ％  值  ％ 水泥、熟料  30,781  49,729,598  57  64,312  (57)  (0.18)  2,748,606  5.84 ＊關鍵績效指標：自產水泥、熟料銷售總量為30,838仟公噸，計畫銷售總量為29,881仟公噸，達成率為103.20%。 - 2 -  公司簡介   參、大陸轉投資事業布局 一、本公司是政府實行開放政策，准許國內企業赴大陸投資水泥事業後，第一家依法前往中國大陸投資的水泥公司，迄今已有24年。 二、轉投資的亞泥（中國）於2008年5月在香港聯交所主板上市，下轄一貫化水泥製造廠、研磨廠、水泥製品廠、運輸公司及投資公司等五大類型合計共21家公司及3家策略合作夥伴公司，資產總額約240餘億元人民幣。 三、現階段在大陸的營運據點，主要是在江西、四川、湖北、江蘇及上海等省市地區，並分別以江西亞東、四川亞東、湖北亞東等3家水泥公司為東南、西南、華中地區之核心經營主公司，加上四川蘭豐水泥公司、黃岡亞東水泥公司、武漢亞鑫水泥公司及揚州亞東研磨廠、武漢亞東研磨廠、南昌亞東研磨廠，再搭配上海亞力、南昌亞力、成都亞力、四川亞力、武漢亞力等5家水泥製品廠，與江西亞利、四川亞利、湖北亞利3家運輸公司和策略合資的武漢長亞航運公司、湖北鑫龍源建材有限公司、湖北中建亞東混凝土公司，加上泰州亞東建材公司、瑞昌亞東新材料有限公司及營運中的3座水泥中轉站，12個營業所，形成一個嚴密而有效率的產、運、銷網路。 肆、大陸轉投資事業概況 一、江西亞東水泥公司︰擁有6套旋窯，合計年產能約1,100萬公噸熟料，約可產製1,400萬公噸水泥，不但是江西省最大的水泥生產基地，單廠規模也位居大陸，甚至位列全球前茅。6套旋窯的廢熱回收發電設備年發電量可達33,800萬度，有效降低了用電成本及減少對外來電力之倚賴。  二、四川亞東水泥公司︰擁有3套旋窯，合計年產能約495萬公噸熟料，約可產製600萬公噸水泥。3套旋窯的廢熱回收發電設備年發電量可達14,500萬度，有效降低了用電成本及減少對外來電力之倚賴。     自關口轉運站延伸至廠區之長皮帶工程，可將石灰石從礦山透過長皮帶直接運送到廠，除提高運輸效率、降低原料成本、確保生產用量外，並可完全避免路運礦石對周邊環境、道路及居民生活所產生的影響。 三、湖北亞東水泥公司︰擁有2套旋窯，合計年產能約330萬公噸熟料，約可產製400萬公噸水泥。2套旋窯的廢熱回收發電設備年發電量可達10,500萬度，有效降低了用電成本及減少對外來電力之倚賴。  四、黃岡亞東水泥公司：擁有1套年產能約165萬公噸熟料之旋窯，約可產製200萬公噸水泥。  五、武漢亞鑫水泥公司：為加強「洋房牌水泥」在武漢市的主導地位，提高市場占有率，湖北亞東水泥公司於2010年7月收購同為新型幹法熟料生產線之武漢鑫淩雲水泥公司，每年約可產銷150萬公噸水泥。 六、四川蘭豐水泥公司：為增強市場的主導權，提升大成都市場之市占率，使在市場、成本、經營面產生綜效，四川亞東水泥公司於2014年5月併購了四川蘭豐水泥公司100%股權。該公司於彭州市擁有2條新型幹法熟料生產線，水泥年產能500萬公噸，同時配備了年發電量可達13,000萬度之廢熱回收發電設備。  七、揚州亞東水泥公司：每年約可研磨300萬公噸水泥，供應揚州地區市場。另興建有攪拌- 3 - '"
      ]
     },
     "execution_count": 69,
     "metadata": {},
     "output_type": "execute_result"
    }
   ],
   "source": [
    "extract_text_by_page(r'C:\\Users\\DC\\辰瑜的論文\\年報108-109年\\M1100水泥工業\\1102\\2019_1102_20200623F04_20211212_154547.pdf')"
   ]
  },
  {
   "cell_type": "code",
   "execution_count": 56,
   "id": "b06eddca",
   "metadata": {},
   "outputs": [],
   "source": [
    "s = ''\n",
    "s1 = \"你好\"\n",
    "s2 = '幹'\n",
    "s += s1"
   ]
  },
  {
   "cell_type": "code",
   "execution_count": 57,
   "id": "69b28ed6",
   "metadata": {},
   "outputs": [
    {
     "data": {
      "text/plain": [
       "'你好'"
      ]
     },
     "execution_count": 57,
     "metadata": {},
     "output_type": "execute_result"
    }
   ],
   "source": [
    "s"
   ]
  },
  {
   "cell_type": "code",
   "execution_count": null,
   "id": "2c79b9be",
   "metadata": {},
   "outputs": [],
   "source": []
  }
 ],
 "metadata": {
  "kernelspec": {
   "display_name": "Python 3 (ipykernel)",
   "language": "python",
   "name": "python3"
  },
  "language_info": {
   "codemirror_mode": {
    "name": "ipython",
    "version": 3
   },
   "file_extension": ".py",
   "mimetype": "text/x-python",
   "name": "python",
   "nbconvert_exporter": "python",
   "pygments_lexer": "ipython3",
   "version": "3.9.7"
  }
 },
 "nbformat": 4,
 "nbformat_minor": 5
}
