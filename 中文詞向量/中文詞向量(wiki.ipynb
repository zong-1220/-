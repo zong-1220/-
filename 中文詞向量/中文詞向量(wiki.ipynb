{
 "cells": [
  {
   "cell_type": "markdown",
   "metadata": {},
   "source": [
    "## 匯入套件和資料"
   ]
  },
  {
   "cell_type": "code",
   "execution_count": 1,
   "metadata": {},
   "outputs": [],
   "source": [
    "import os\n",
    "import jieba\n",
    "import numpy as np\n",
    "import csv"
   ]
  },
  {
   "cell_type": "code",
   "execution_count": 2,
   "metadata": {},
   "outputs": [],
   "source": [
    "def csv_create(file_name,model,co_id,list_name):\n",
    "    with open(file_name,model,newline='') as file:\n",
    "        writer = csv.writer(file)\n",
    "        writer.writerow(['公司名稱','95,96年','96,97年','97,98年','98,99年','99,100年','100,101年','101,102年','102,103年','103,104年','104,105年','105,106年','106,107年','107,108年','108,109年'])\n",
    "        writer.writerow([co_id]+list_name)"
   ]
  },
  {
   "cell_type": "code",
   "execution_count": 3,
   "metadata": {},
   "outputs": [
    {
     "name": "stdout",
     "output_type": "stream",
     "text": [
      "C:\\Users\\DC\\中文詞向量\\1909文字\\2006.txt\n",
      "C:\\Users\\DC\\中文詞向量\\1909文字\\2007.txt\n",
      "C:\\Users\\DC\\中文詞向量\\1909文字\\2008.txt\n",
      "C:\\Users\\DC\\中文詞向量\\1909文字\\2009.txt\n",
      "C:\\Users\\DC\\中文詞向量\\1909文字\\2010.txt\n",
      "C:\\Users\\DC\\中文詞向量\\1909文字\\2011.txt\n",
      "C:\\Users\\DC\\中文詞向量\\1909文字\\2012.txt\n",
      "C:\\Users\\DC\\中文詞向量\\1909文字\\2013.txt\n",
      "C:\\Users\\DC\\中文詞向量\\1909文字\\2014.txt\n",
      "C:\\Users\\DC\\中文詞向量\\1909文字\\2015.txt\n",
      "C:\\Users\\DC\\中文詞向量\\1909文字\\2016.txt\n",
      "C:\\Users\\DC\\中文詞向量\\1909文字\\2017.txt\n",
      "C:\\Users\\DC\\中文詞向量\\1909文字\\2018.txt\n",
      "C:\\Users\\DC\\中文詞向量\\1909文字\\2019.txt\n",
      "C:\\Users\\DC\\中文詞向量\\1909文字\\2020.txt\n"
     ]
    }
   ],
   "source": [
    "all_file = []\n",
    "txt_root = 'C:\\\\Users\\\\DC\\\\中文詞向量\\\\1909文字'\n",
    "\n",
    "for root, dirs, files in os.walk(txt_root): \n",
    "    for file in files: \n",
    "        print(root + '\\\\' + file)\n",
    "        all_file.append(root + '\\\\' + file)"
   ]
  },
  {
   "cell_type": "code",
   "execution_count": 4,
   "metadata": {},
   "outputs": [
    {
     "name": "stderr",
     "output_type": "stream",
     "text": [
      "Building prefix dict from the default dictionary ...\n",
      "Loading model from cache C:\\Users\\DC\\AppData\\Local\\Temp\\jieba.cache\n",
      "Loading model cost 0.425 seconds.\n",
      "Prefix dict has been built successfully.\n"
     ]
    }
   ],
   "source": [
    "all_txt = []\n",
    "\n",
    "for i in range(0,len(all_file)):\n",
    "    txt = open(all_file[i], 'r', encoding='utf-8').read()\n",
    "    txt = txt.replace('■','').replace('、','').replace('：','').replace('\\n','').replace(' ','').replace('●','').replace('，','').replace('│','').replace('。','').replace(',','').replace(';','').replace('(','').replace(')','').replace('；','')\n",
    "    a =jieba.lcut(txt)\n",
    "    all_txt.append(a)"
   ]
  },
  {
   "cell_type": "markdown",
   "metadata": {},
   "source": [
    "## 載入模型後將文字轉為向量！"
   ]
  },
  {
   "cell_type": "code",
   "execution_count": 5,
   "metadata": {},
   "outputs": [],
   "source": [
    "from gensim.models import word2vec\n",
    "model = word2vec.Word2Vec.load('wiki.model') #載入模型"
   ]
  },
  {
   "cell_type": "code",
   "execution_count": 6,
   "metadata": {
    "scrolled": true
   },
   "outputs": [
    {
     "name": "stdout",
     "output_type": "stream",
     "text": [
      "[ 1.00111389e+02 -6.59460373e+01  1.56108337e+02 -3.51718079e+02\n",
      " -5.57278564e+02 -2.06947525e+02  7.17156494e+02  4.41984650e+02\n",
      " -3.39753540e+02 -4.06402206e+01 -1.80314505e+00 -4.13722351e+02\n",
      " -1.30621201e+02 -1.47997345e+02 -2.29910004e+02  1.47077393e+02\n",
      "  5.06093323e+02  4.12250481e+01 -1.49780823e+02 -3.64934082e+01\n",
      " -5.49533081e+01  4.45613365e+01  4.18395508e+02  8.24350281e+01\n",
      " -2.65339203e+02 -1.86800949e+02  4.88425598e+01 -1.54743973e+02\n",
      "  1.63938217e+02  4.17414307e+02  2.89785828e+02 -1.37808853e+02\n",
      "  2.12703125e+02 -2.79436279e+02  1.94360771e+01  2.04358734e+02\n",
      " -3.46113930e+01  1.33338913e+02  2.03046188e+02 -1.64690033e+02\n",
      " -5.42668945e+02 -2.04688690e+02 -2.27373917e+02 -5.39764404e+00\n",
      "  3.45741638e+02  4.84126740e+02  6.04484367e+01  3.27161072e+02\n",
      "  8.37344055e+01  3.28993683e+01  1.27514336e+02  2.51649887e+02\n",
      "  7.99854736e+01 -1.77639374e+02  1.78975327e+02  1.95451935e+02\n",
      "  7.96420227e+02  3.95889587e+02 -4.78998169e+02 -1.91233749e+02\n",
      " -4.64798553e+02  1.35393677e+02 -3.20499634e+02  1.34936966e+02\n",
      "  2.50212784e+02  1.08896133e+02 -1.55335098e+02 -6.42912197e+00\n",
      " -2.41013504e+02  2.59925842e+02  2.09494186e+02 -1.39050140e+02\n",
      "  8.54048691e+01 -8.12773743e+01  1.76107071e+02  1.51227615e+02\n",
      " -2.06016281e+02 -1.06299057e+02  1.42861538e+01 -1.30698822e+02\n",
      "  5.90300415e+02  2.93800079e+02  1.75534882e+02  2.52893051e+02\n",
      " -2.10194382e+02  3.94680664e+02 -3.66032990e+02 -3.00674496e+01\n",
      "  2.40810944e+02  1.45783936e+02  3.74066956e+02  2.88954201e+01\n",
      " -3.77483582e+02 -4.31211121e+02 -2.71248169e+02  2.80037262e+02\n",
      " -4.04873840e+02  1.60511379e+01  7.29650497e+01  1.64808273e+02\n",
      "  1.78520065e+02 -2.45145401e+02 -1.25752983e+02  3.11490936e+01\n",
      "  3.12547363e+02 -2.43951096e+02 -9.51200714e+01  1.75352875e+02\n",
      "  1.22977608e+02 -5.49354980e+02 -6.51262970e+01  6.39242506e+00\n",
      " -3.94076355e+02 -1.50770159e+01  4.99766571e+02  1.00339897e+02\n",
      "  7.06146774e+01 -3.25757294e+02 -1.49034668e+02 -6.20807068e+02\n",
      "  8.22003784e+01  2.45789658e+02 -8.27595062e+01 -1.50575363e+02\n",
      " -3.60138977e+02 -1.16126610e+02 -1.31050186e+02  2.36635483e+02\n",
      " -1.87005127e+02 -3.29373932e+01  1.47468109e+02 -1.97253952e+02\n",
      "  3.41609741e+02 -4.62303257e+00 -1.05307190e+02 -2.39406464e+02\n",
      "  2.78225464e+02 -2.82338348e+02  1.09395309e+02 -3.67116791e+02\n",
      "  1.56278412e+02 -4.33943558e+00  2.39941120e+00  1.37037903e+02\n",
      "  2.43837616e+02 -2.40197611e+00 -1.47056015e+02  3.12612885e+02\n",
      "  4.93550537e+02 -1.89518127e+01 -4.63874054e+02  1.80612671e+02\n",
      " -9.29942780e+01  9.11882629e+01 -2.67261841e+02 -5.83394836e+02\n",
      " -3.79013481e+01  2.09017715e+02  7.02096786e+01 -6.04189331e+02\n",
      " -2.96738068e+02 -1.54663528e+02  2.16164948e+02 -7.59810257e+01\n",
      "  4.05949493e+02 -5.05209961e+01 -1.07522179e+02 -6.55165100e+01\n",
      "  5.68211670e+02  2.73267303e+02 -4.52906570e+01  7.95752869e+01\n",
      " -1.36316254e+02  2.94137726e+02  1.59528610e+02  2.22099503e+02\n",
      "  5.51412392e+01  1.04631584e+02 -2.73419250e+02 -1.20090637e+02\n",
      "  1.36413437e+02  2.63076752e+02  3.97075500e+02 -2.31728706e+01\n",
      " -4.33869286e+01  1.27618170e+01 -3.14422729e+02 -1.57005707e+02\n",
      "  1.89034683e+02  1.17677910e+02 -1.55782150e+02  7.33371201e+01\n",
      " -1.39120911e+02  1.92934784e+02  1.29637756e+02 -1.30017242e+02\n",
      "  2.05191364e+01  1.25964745e+02  7.46382980e+01  2.07417404e+02\n",
      " -6.51242876e+00 -1.67178864e+02 -2.97440247e+02 -8.68446426e+01\n",
      " -1.04703445e+02 -3.03749451e+02  3.05748749e+02 -2.32096527e+02\n",
      "  3.07370949e+01 -1.57835327e+02  4.67125641e+02  4.53226593e+02\n",
      " -2.34877396e+02 -8.64978561e+01 -5.77824280e+02  2.33572723e+02\n",
      "  2.70567902e+02 -5.26867676e+01  1.69998840e+02 -4.45552124e+02\n",
      " -5.20299500e+02  8.14631729e+01  2.86408447e+02 -1.96096909e+02\n",
      "  5.12576355e+02  1.97834549e+02  9.10251007e+01  2.38315811e+02\n",
      "  1.85907784e+01 -2.19914108e+02 -1.26667656e+02 -2.08012482e+02\n",
      "  3.25704010e+02 -5.70481071e+01 -3.39860809e+02  1.74039612e+02\n",
      "  1.32768965e+01  1.38546448e+02 -5.17989563e+02  3.95312233e+01\n",
      "  1.32853821e+02  3.90995483e+02 -1.11292480e+02  2.05906815e+02\n",
      "  8.71983871e+01 -1.24930811e+01 -2.59844421e+02  7.20578308e+01\n",
      "  5.70838684e+02  1.98115524e+02 -1.54066284e+02 -2.58716614e+02\n",
      "  1.49991867e+02  1.48103790e+02 -3.68911194e+02  3.88582993e+01\n",
      " -5.68898315e+01 -5.38349609e+02 -3.24846992e+01 -1.89240234e+02\n",
      "  1.28242966e+02 -3.15411816e+01 -2.23182312e+02  1.32560608e+02\n",
      "  2.25314346e+02  2.66127808e+02 -1.26230087e+02  2.49371506e+02\n",
      " -3.29403076e+02 -7.37390823e+01  6.18859329e+01  1.86873550e+02\n",
      " -1.83974243e+02  1.37319351e+02  2.04367493e+02 -1.46018204e+02\n",
      " -5.01306885e+02  2.89533264e+02  4.79729034e+02  3.20410538e+01\n",
      " -1.20959673e+01 -3.80724731e+02 -5.22990379e+01 -2.82369171e+02\n",
      " -1.91089264e+02 -4.23810750e-01 -9.80408478e+01  2.79522919e+02\n",
      " -3.03395447e+02 -1.30083252e+02 -2.59219086e+02 -1.90349579e+01\n",
      " -5.73936234e+01 -1.86303940e+02  2.30200443e+01 -5.16626596e+00\n",
      " -1.57515091e+02 -3.63966980e+01  4.75655762e+02 -7.11848855e-01]\n"
     ]
    }
   ],
   "source": [
    "padding = np.zeros((model.vector_size,), dtype=np.float32) #0向量\n",
    "all_vec_add = []\n",
    "vec_add = 0\n",
    "\n",
    "for j in range(0,len(all_txt)):\n",
    "    for i in all_txt[j]:\n",
    "        try:\n",
    "            vec_add += model.wv[i]\n",
    "        except:\n",
    "            model.wv[i] = padding\n",
    "            vec_add += model.wv[i]\n",
    "    all_vec_add.append(vec_add)\n",
    "    vec_add = 0\n",
    "    \n",
    "print(all_vec_add[1])"
   ]
  },
  {
   "cell_type": "markdown",
   "metadata": {},
   "source": [
    "## 歐式計算距離寫入csv"
   ]
  },
  {
   "cell_type": "code",
   "execution_count": 7,
   "metadata": {},
   "outputs": [
    {
     "name": "stdout",
     "output_type": "stream",
     "text": [
      "618.22797\n",
      "764.49585\n",
      "1176.2107\n",
      "874.5292\n",
      "699.4596\n",
      "648.46106\n",
      "2304.8887\n",
      "8787.078\n",
      "1853.0522\n",
      "2175.429\n",
      "864.57776\n",
      "1452.7853\n",
      "1386.5842\n",
      "1349.2218\n"
     ]
    }
   ],
   "source": [
    "#歐式\n",
    "Euc = []\n",
    "\n",
    "for i in range(0,len(all_vec_add)-1):\n",
    "    x = all_vec_add[i]\n",
    "    y = all_vec_add[i+1]\n",
    "    dis = np.linalg.norm( all_vec_add[i] - all_vec_add[i+1])\n",
    "    Euc.append(dis)\n",
    "    print(dis)"
   ]
  },
  {
   "cell_type": "code",
   "execution_count": 45,
   "metadata": {},
   "outputs": [],
   "source": [
    "csv_file = 'euc_per_year.csv'\n",
    "write_mode = 'w'\n",
    "co_id = '1909'\n",
    "\n",
    "csv_create(csv_file,write_mode,co_id,Euc)"
   ]
  },
  {
   "cell_type": "markdown",
   "metadata": {},
   "source": [
    "## 餘弦計算距離寫入csv"
   ]
  },
  {
   "cell_type": "code",
   "execution_count": 8,
   "metadata": {},
   "outputs": [
    {
     "name": "stdout",
     "output_type": "stream",
     "text": [
      "0.007903516292572021\n",
      "0.012111008167266846\n",
      "0.02953892946243286\n",
      "0.020669639110565186\n",
      "0.015810012817382812\n",
      "0.013813555240631104\n",
      "0.025684595108032227\n",
      "0.01723700761795044\n",
      "0.00725102424621582\n",
      "0.004765689373016357\n",
      "0.001683056354522705\n",
      "0.005492687225341797\n",
      "0.0034882426261901855\n",
      "0.00240325927734375\n"
     ]
    }
   ],
   "source": [
    "#餘弦\n",
    "Man = []\n",
    "\n",
    "for i in range(0,len(all_vec_add)-1):\n",
    "    x = all_vec_add[i]\n",
    "    y = all_vec_add[i+1]\n",
    "    \n",
    "    #小數方式\n",
    "    #np.set_printoptions(precision=10,suppress=True) #位數\n",
    "    #dis =  np.array([1 - np.dot(x,y)/(np.linalg.norm(x)*np.linalg.norm(y))])\n",
    "    \n",
    "    #科學記號方式\n",
    "    dis =  1 - np.dot(x,y)/(np.linalg.norm(x)*np.linalg.norm(y))\n",
    "    print(dis)\n",
    "    Man.append(dis)"
   ]
  },
  {
   "cell_type": "code",
   "execution_count": 32,
   "metadata": {},
   "outputs": [],
   "source": [
    "csv_file = 'man_per_year.csv'\n",
    "write_mode = 'w'\n",
    "co_id = '1909'\n",
    "\n",
    "csv_create(csv_file,write_mode,co_id,Man)"
   ]
  },
  {
   "cell_type": "markdown",
   "metadata": {},
   "source": [
    "### 其他"
   ]
  },
  {
   "cell_type": "code",
   "execution_count": 75,
   "metadata": {},
   "outputs": [
    {
     "data": {
      "text/plain": [
       "0.9796264"
      ]
     },
     "execution_count": 75,
     "metadata": {},
     "output_type": "execute_result"
    }
   ],
   "source": [
    "similarity = model.wv.similarity('股東',all_txt[0][2]) #兩點距離\n",
    "similarity"
   ]
  },
  {
   "cell_type": "code",
   "execution_count": 9,
   "metadata": {},
   "outputs": [
    {
     "name": "stdout",
     "output_type": "stream",
     "text": [
      "('銷售額', 0.7324838638305664)\n",
      "('營業額', 0.7170495390892029)\n",
      "('淨利潤', 0.7029321193695068)\n",
      "('盈利', 0.6880814433097839)\n",
      "('市占率', 0.6595735549926758)\n",
      "('業績', 0.6550719738006592)\n",
      "('市值', 0.6541926860809326)\n",
      "('市佔率', 0.6344636082649231)\n",
      "('產值', 0.6336631774902344)\n",
      "('虧損', 0.6332756876945496)\n"
     ]
    },
    {
     "name": "stderr",
     "output_type": "stream",
     "text": [
      "C:\\Users\\DC\\anaconda3\\lib\\site-packages\\gensim\\models\\keyedvectors.py:783: RuntimeWarning: invalid value encountered in true_divide\n",
      "  dists = dot(self.vectors[clip_start:clip_end], mean) / self.norms[clip_start:clip_end]\n"
     ]
    }
   ],
   "source": [
    "for item in model.wv.most_similar('營收'):\n",
    "    print(item)"
   ]
  },
  {
   "cell_type": "code",
   "execution_count": null,
   "metadata": {},
   "outputs": [],
   "source": [
    "#https://www.itread01.com/content/1548060671.html"
   ]
  }
 ],
 "metadata": {
  "kernelspec": {
   "display_name": "Python 3 (ipykernel)",
   "language": "python",
   "name": "python3"
  },
  "language_info": {
   "codemirror_mode": {
    "name": "ipython",
    "version": 3
   },
   "file_extension": ".py",
   "mimetype": "text/x-python",
   "name": "python",
   "nbconvert_exporter": "python",
   "pygments_lexer": "ipython3",
   "version": "3.9.7"
  }
 },
 "nbformat": 4,
 "nbformat_minor": 4
}
