{
 "cells": [
  {
   "cell_type": "code",
   "execution_count": 23,
   "id": "8e514eb0",
   "metadata": {},
   "outputs": [],
   "source": [
    "import os\n",
    "import jieba\n",
    "import numpy as np\n",
    "import csv\n",
    "import pandas as pd\n",
    "import seaborn as sns\n",
    "import matplotlib.pyplot as plt"
   ]
  },
  {
   "cell_type": "code",
   "execution_count": 4,
   "id": "47d5f394",
   "metadata": {},
   "outputs": [],
   "source": [
    "co_id = ['1909','2002']\n",
    "years = ['95,96年','96,97年','97,98年','98,99年','99,100年','100,101年','101,102年','102,103年','103,104年','104,105年','105,106年','106,107年','107,108年','108,109年']"
   ]
  },
  {
   "cell_type": "code",
   "execution_count": 5,
   "id": "21c4f025",
   "metadata": {},
   "outputs": [],
   "source": [
    "info =[]\n",
    "for i in co_id:\n",
    "    for z in years:\n",
    "        merge = [i,z]\n",
    "        info.append(merge)"
   ]
  },
  {
   "cell_type": "code",
   "execution_count": 6,
   "id": "f919cbeb",
   "metadata": {
    "scrolled": true
   },
   "outputs": [
    {
     "data": {
      "text/plain": [
       "[['1909', '95,96年'],\n",
       " ['1909', '96,97年'],\n",
       " ['1909', '97,98年'],\n",
       " ['1909', '98,99年'],\n",
       " ['1909', '99,100年'],\n",
       " ['1909', '100,101年'],\n",
       " ['1909', '101,102年'],\n",
       " ['1909', '102,103年'],\n",
       " ['1909', '103,104年'],\n",
       " ['1909', '104,105年'],\n",
       " ['1909', '105,106年'],\n",
       " ['1909', '106,107年'],\n",
       " ['1909', '107,108年'],\n",
       " ['1909', '108,109年'],\n",
       " ['2002', '95,96年'],\n",
       " ['2002', '96,97年'],\n",
       " ['2002', '97,98年'],\n",
       " ['2002', '98,99年'],\n",
       " ['2002', '99,100年'],\n",
       " ['2002', '100,101年'],\n",
       " ['2002', '101,102年'],\n",
       " ['2002', '102,103年'],\n",
       " ['2002', '103,104年'],\n",
       " ['2002', '104,105年'],\n",
       " ['2002', '105,106年'],\n",
       " ['2002', '106,107年'],\n",
       " ['2002', '107,108年'],\n",
       " ['2002', '108,109年']]"
      ]
     },
     "execution_count": 6,
     "metadata": {},
     "output_type": "execute_result"
    }
   ],
   "source": [
    "info"
   ]
  },
  {
   "cell_type": "markdown",
   "id": "02dd71e4",
   "metadata": {},
   "source": [
    "### 載入模型後將文字轉為向量！"
   ]
  },
  {
   "cell_type": "code",
   "execution_count": 7,
   "id": "5fe98b8e",
   "metadata": {},
   "outputs": [],
   "source": [
    "from gensim.models import word2vec\n",
    "model = word2vec.Word2Vec.load('word300.model') #載入模型\n",
    "\n",
    "Euc_Man =[]"
   ]
  },
  {
   "cell_type": "markdown",
   "id": "ea300265",
   "metadata": {},
   "source": [
    "# 重複此步驟，直到資料載入完"
   ]
  },
  {
   "cell_type": "markdown",
   "id": "bb4962a7",
   "metadata": {},
   "source": [
    "### 依序將資料載入"
   ]
  },
  {
   "cell_type": "code",
   "execution_count": 12,
   "id": "7f817246",
   "metadata": {},
   "outputs": [],
   "source": [
    "all_file = []\n",
    "txt_root = 'C:\\\\Users\\\\DC\\\\中文詞向量\\\\2002文字' #每次更動修改此處即可"
   ]
  },
  {
   "cell_type": "code",
   "execution_count": 13,
   "id": "64dd65b4",
   "metadata": {},
   "outputs": [],
   "source": [
    "for root, dirs, files in os.walk(txt_root): \n",
    "    for file in files: \n",
    "        all_file.append(root + '\\\\' + file)\n",
    "        \n",
    "all_txt = []\n",
    "\n",
    "for i in range(0,len(all_file)):\n",
    "    txt = open(all_file[i], 'r', encoding='utf-8').read()\n",
    "    txt = txt.replace('■','').replace('、','').replace('：','').replace('\\n','').replace(' ','').replace('●','').replace('，','').replace('│','').replace('。','').replace(',','').replace(';','').replace('(','').replace(')','').replace('；','')\n",
    "    a =jieba.lcut(txt)\n",
    "    all_txt.append(a)\n",
    "    \n",
    "    \n",
    "padding = np.zeros((model.vector_size,), dtype=np.float32) #0向量\n",
    "all_vec_add = []\n",
    "vec_add = 0\n",
    "\n",
    "for j in range(0,len(all_txt)):\n",
    "    for i in all_txt[j]:\n",
    "        try:\n",
    "            vec_add += model.wv[i]\n",
    "        except:\n",
    "            model.wv[i] = padding\n",
    "            vec_add += model.wv[i]\n",
    "    all_vec_add.append(vec_add)\n",
    "    vec_add = 0\n",
    "    \n",
    "Euc = []\n",
    "\n",
    "for i in range(0,len(all_vec_add)-1):\n",
    "    x = all_vec_add[i]\n",
    "    y = all_vec_add[i+1]\n",
    "    dis = np.linalg.norm( all_vec_add[i] - all_vec_add[i+1])\n",
    "    Euc.append(dis)\n",
    "    \n",
    "Man = []\n",
    "\n",
    "for i in range(0,len(all_vec_add)-1):\n",
    "    x = all_vec_add[i]\n",
    "    y = all_vec_add[i+1]\n",
    "    dis =  1 - np.dot(x,y)/(np.linalg.norm(x)*np.linalg.norm(y))\n",
    "    Man.append(dis)"
   ]
  },
  {
   "cell_type": "code",
   "execution_count": 14,
   "id": "e1edaf92",
   "metadata": {},
   "outputs": [],
   "source": [
    "#Euc_Man =[]\n",
    "for x,y in zip(Euc,Man):\n",
    "    Euc_Man.append([x,y])"
   ]
  },
  {
   "cell_type": "code",
   "execution_count": 15,
   "id": "9597b43c",
   "metadata": {},
   "outputs": [
    {
     "data": {
      "text/plain": [
       "[[54.133915, 3.5762786865234375e-07],\n",
       " [43.062218, 5.960464477539062e-07],\n",
       " [287.33676, 1.6689300537109375e-06],\n",
       " [45.87058, 8.940696716308594e-07],\n",
       " [59.09678, 6.556510925292969e-07],\n",
       " [28.84357, 4.76837158203125e-07],\n",
       " [349.75732, 1.0132789611816406e-06],\n",
       " [1684.4163, 7.152557373046875e-07],\n",
       " [117.87473, 4.172325134277344e-07],\n",
       " [360.80096, 2.384185791015625e-07],\n",
       " [143.11743, 5.960464477539063e-08],\n",
       " [173.32533, 2.384185791015625e-07],\n",
       " [166.95586, 2.384185791015625e-07],\n",
       " [281.5997, 2.384185791015625e-07],\n",
       " [161.83897, 6.556510925292969e-07],\n",
       " [407.5506, 5.364418029785156e-07],\n",
       " [354.7137, 4.172325134277344e-07],\n",
       " [28.31013, 5.960464477539062e-07],\n",
       " [117.519005, 5.960464477539062e-07],\n",
       " [92.390564, 1.7881393432617188e-07],\n",
       " [5.7022896, 6.556510925292969e-07],\n",
       " [67.03385, 4.172325134277344e-07],\n",
       " [123.8594, 5.960464477539062e-07],\n",
       " [242.78636, 4.172325134277344e-07],\n",
       " [74.89182, 2.980232238769531e-07],\n",
       " [167.5097, 7.152557373046875e-07],\n",
       " [95.86882, 4.76837158203125e-07],\n",
       " [461.24908, 4.76837158203125e-07]]"
      ]
     },
     "execution_count": 15,
     "metadata": {},
     "output_type": "execute_result"
    }
   ],
   "source": [
    "Euc_Man"
   ]
  },
  {
   "cell_type": "markdown",
   "id": "c03c92da",
   "metadata": {},
   "source": [
    "### 資料全部載入後檢查資料長度是否都對齊"
   ]
  },
  {
   "cell_type": "code",
   "execution_count": 16,
   "id": "157d8060",
   "metadata": {},
   "outputs": [
    {
     "name": "stdout",
     "output_type": "stream",
     "text": [
      "28\n",
      "28\n"
     ]
    }
   ],
   "source": [
    "print(len(info))\n",
    "print(len(Euc_Man))  "
   ]
  },
  {
   "cell_type": "code",
   "execution_count": 17,
   "id": "e2dee9f8",
   "metadata": {
    "scrolled": true
   },
   "outputs": [
    {
     "data": {
      "text/html": [
       "<div>\n",
       "<style scoped>\n",
       "    .dataframe tbody tr th:only-of-type {\n",
       "        vertical-align: middle;\n",
       "    }\n",
       "\n",
       "    .dataframe tbody tr th {\n",
       "        vertical-align: top;\n",
       "    }\n",
       "\n",
       "    .dataframe thead th {\n",
       "        text-align: right;\n",
       "    }\n",
       "</style>\n",
       "<table border=\"1\" class=\"dataframe\">\n",
       "  <thead>\n",
       "    <tr style=\"text-align: right;\">\n",
       "      <th></th>\n",
       "      <th>co_id</th>\n",
       "      <th>years</th>\n",
       "      <th>Euc</th>\n",
       "      <th>Man</th>\n",
       "    </tr>\n",
       "  </thead>\n",
       "  <tbody>\n",
       "    <tr>\n",
       "      <th>0</th>\n",
       "      <td>1909</td>\n",
       "      <td>95,96年</td>\n",
       "      <td>54.133915</td>\n",
       "      <td>3.576279e-07</td>\n",
       "    </tr>\n",
       "    <tr>\n",
       "      <th>1</th>\n",
       "      <td>1909</td>\n",
       "      <td>96,97年</td>\n",
       "      <td>43.062218</td>\n",
       "      <td>5.960464e-07</td>\n",
       "    </tr>\n",
       "    <tr>\n",
       "      <th>2</th>\n",
       "      <td>1909</td>\n",
       "      <td>97,98年</td>\n",
       "      <td>287.336761</td>\n",
       "      <td>1.668930e-06</td>\n",
       "    </tr>\n",
       "    <tr>\n",
       "      <th>3</th>\n",
       "      <td>1909</td>\n",
       "      <td>98,99年</td>\n",
       "      <td>45.870579</td>\n",
       "      <td>8.940697e-07</td>\n",
       "    </tr>\n",
       "    <tr>\n",
       "      <th>4</th>\n",
       "      <td>1909</td>\n",
       "      <td>99,100年</td>\n",
       "      <td>59.096779</td>\n",
       "      <td>6.556511e-07</td>\n",
       "    </tr>\n",
       "    <tr>\n",
       "      <th>5</th>\n",
       "      <td>1909</td>\n",
       "      <td>100,101年</td>\n",
       "      <td>28.843571</td>\n",
       "      <td>4.768372e-07</td>\n",
       "    </tr>\n",
       "    <tr>\n",
       "      <th>6</th>\n",
       "      <td>1909</td>\n",
       "      <td>101,102年</td>\n",
       "      <td>349.757324</td>\n",
       "      <td>1.013279e-06</td>\n",
       "    </tr>\n",
       "    <tr>\n",
       "      <th>7</th>\n",
       "      <td>1909</td>\n",
       "      <td>102,103年</td>\n",
       "      <td>1684.416260</td>\n",
       "      <td>7.152557e-07</td>\n",
       "    </tr>\n",
       "    <tr>\n",
       "      <th>8</th>\n",
       "      <td>1909</td>\n",
       "      <td>103,104年</td>\n",
       "      <td>117.874733</td>\n",
       "      <td>4.172325e-07</td>\n",
       "    </tr>\n",
       "    <tr>\n",
       "      <th>9</th>\n",
       "      <td>1909</td>\n",
       "      <td>104,105年</td>\n",
       "      <td>360.800964</td>\n",
       "      <td>2.384186e-07</td>\n",
       "    </tr>\n",
       "    <tr>\n",
       "      <th>10</th>\n",
       "      <td>1909</td>\n",
       "      <td>105,106年</td>\n",
       "      <td>143.117432</td>\n",
       "      <td>5.960464e-08</td>\n",
       "    </tr>\n",
       "    <tr>\n",
       "      <th>11</th>\n",
       "      <td>1909</td>\n",
       "      <td>106,107年</td>\n",
       "      <td>173.325333</td>\n",
       "      <td>2.384186e-07</td>\n",
       "    </tr>\n",
       "    <tr>\n",
       "      <th>12</th>\n",
       "      <td>1909</td>\n",
       "      <td>107,108年</td>\n",
       "      <td>166.955856</td>\n",
       "      <td>2.384186e-07</td>\n",
       "    </tr>\n",
       "    <tr>\n",
       "      <th>13</th>\n",
       "      <td>1909</td>\n",
       "      <td>108,109年</td>\n",
       "      <td>281.599701</td>\n",
       "      <td>2.384186e-07</td>\n",
       "    </tr>\n",
       "    <tr>\n",
       "      <th>14</th>\n",
       "      <td>2002</td>\n",
       "      <td>95,96年</td>\n",
       "      <td>161.838974</td>\n",
       "      <td>6.556511e-07</td>\n",
       "    </tr>\n",
       "    <tr>\n",
       "      <th>15</th>\n",
       "      <td>2002</td>\n",
       "      <td>96,97年</td>\n",
       "      <td>407.550598</td>\n",
       "      <td>5.364418e-07</td>\n",
       "    </tr>\n",
       "    <tr>\n",
       "      <th>16</th>\n",
       "      <td>2002</td>\n",
       "      <td>97,98年</td>\n",
       "      <td>354.713715</td>\n",
       "      <td>4.172325e-07</td>\n",
       "    </tr>\n",
       "    <tr>\n",
       "      <th>17</th>\n",
       "      <td>2002</td>\n",
       "      <td>98,99年</td>\n",
       "      <td>28.310129</td>\n",
       "      <td>5.960464e-07</td>\n",
       "    </tr>\n",
       "    <tr>\n",
       "      <th>18</th>\n",
       "      <td>2002</td>\n",
       "      <td>99,100年</td>\n",
       "      <td>117.519005</td>\n",
       "      <td>5.960464e-07</td>\n",
       "    </tr>\n",
       "    <tr>\n",
       "      <th>19</th>\n",
       "      <td>2002</td>\n",
       "      <td>100,101年</td>\n",
       "      <td>92.390564</td>\n",
       "      <td>1.788139e-07</td>\n",
       "    </tr>\n",
       "    <tr>\n",
       "      <th>20</th>\n",
       "      <td>2002</td>\n",
       "      <td>101,102年</td>\n",
       "      <td>5.702290</td>\n",
       "      <td>6.556511e-07</td>\n",
       "    </tr>\n",
       "    <tr>\n",
       "      <th>21</th>\n",
       "      <td>2002</td>\n",
       "      <td>102,103年</td>\n",
       "      <td>67.033852</td>\n",
       "      <td>4.172325e-07</td>\n",
       "    </tr>\n",
       "    <tr>\n",
       "      <th>22</th>\n",
       "      <td>2002</td>\n",
       "      <td>103,104年</td>\n",
       "      <td>123.859398</td>\n",
       "      <td>5.960464e-07</td>\n",
       "    </tr>\n",
       "    <tr>\n",
       "      <th>23</th>\n",
       "      <td>2002</td>\n",
       "      <td>104,105年</td>\n",
       "      <td>242.786362</td>\n",
       "      <td>4.172325e-07</td>\n",
       "    </tr>\n",
       "    <tr>\n",
       "      <th>24</th>\n",
       "      <td>2002</td>\n",
       "      <td>105,106年</td>\n",
       "      <td>74.891823</td>\n",
       "      <td>2.980232e-07</td>\n",
       "    </tr>\n",
       "    <tr>\n",
       "      <th>25</th>\n",
       "      <td>2002</td>\n",
       "      <td>106,107年</td>\n",
       "      <td>167.509705</td>\n",
       "      <td>7.152557e-07</td>\n",
       "    </tr>\n",
       "    <tr>\n",
       "      <th>26</th>\n",
       "      <td>2002</td>\n",
       "      <td>107,108年</td>\n",
       "      <td>95.868820</td>\n",
       "      <td>4.768372e-07</td>\n",
       "    </tr>\n",
       "    <tr>\n",
       "      <th>27</th>\n",
       "      <td>2002</td>\n",
       "      <td>108,109年</td>\n",
       "      <td>461.249084</td>\n",
       "      <td>4.768372e-07</td>\n",
       "    </tr>\n",
       "  </tbody>\n",
       "</table>\n",
       "</div>"
      ],
      "text/plain": [
       "   co_id     years          Euc           Man\n",
       "0   1909    95,96年    54.133915  3.576279e-07\n",
       "1   1909    96,97年    43.062218  5.960464e-07\n",
       "2   1909    97,98年   287.336761  1.668930e-06\n",
       "3   1909    98,99年    45.870579  8.940697e-07\n",
       "4   1909   99,100年    59.096779  6.556511e-07\n",
       "5   1909  100,101年    28.843571  4.768372e-07\n",
       "6   1909  101,102年   349.757324  1.013279e-06\n",
       "7   1909  102,103年  1684.416260  7.152557e-07\n",
       "8   1909  103,104年   117.874733  4.172325e-07\n",
       "9   1909  104,105年   360.800964  2.384186e-07\n",
       "10  1909  105,106年   143.117432  5.960464e-08\n",
       "11  1909  106,107年   173.325333  2.384186e-07\n",
       "12  1909  107,108年   166.955856  2.384186e-07\n",
       "13  1909  108,109年   281.599701  2.384186e-07\n",
       "14  2002    95,96年   161.838974  6.556511e-07\n",
       "15  2002    96,97年   407.550598  5.364418e-07\n",
       "16  2002    97,98年   354.713715  4.172325e-07\n",
       "17  2002    98,99年    28.310129  5.960464e-07\n",
       "18  2002   99,100年   117.519005  5.960464e-07\n",
       "19  2002  100,101年    92.390564  1.788139e-07\n",
       "20  2002  101,102年     5.702290  6.556511e-07\n",
       "21  2002  102,103年    67.033852  4.172325e-07\n",
       "22  2002  103,104年   123.859398  5.960464e-07\n",
       "23  2002  104,105年   242.786362  4.172325e-07\n",
       "24  2002  105,106年    74.891823  2.980232e-07\n",
       "25  2002  106,107年   167.509705  7.152557e-07\n",
       "26  2002  107,108年    95.868820  4.768372e-07\n",
       "27  2002  108,109年   461.249084  4.768372e-07"
      ]
     },
     "execution_count": 17,
     "metadata": {},
     "output_type": "execute_result"
    }
   ],
   "source": [
    "data = pd.DataFrame(info,columns = ['co_id','years']).join(pd.DataFrame(Euc_Man,columns = ['Euc','Man']),how = 'outer')\n",
    "data"
   ]
  },
  {
   "cell_type": "code",
   "execution_count": 34,
   "id": "e8a7a135",
   "metadata": {},
   "outputs": [
    {
     "data": {
      "text/plain": [
       "Text(0.5, 1.0, 'Scatter Chart')"
      ]
     },
     "execution_count": 34,
     "metadata": {},
     "output_type": "execute_result"
    },
    {
     "name": "stderr",
     "output_type": "stream",
     "text": [
      "C:\\Users\\DC\\anaconda3\\lib\\site-packages\\matplotlib\\backends\\backend_agg.py:240: RuntimeWarning: Glyph 24180 missing from current font.\n",
      "  font.set_text(s, 0.0, flags=flags)\n",
      "C:\\Users\\DC\\anaconda3\\lib\\site-packages\\matplotlib\\backends\\backend_agg.py:203: RuntimeWarning: Glyph 24180 missing from current font.\n",
      "  font.set_text(s, 0, flags=flags)\n"
     ]
    },
    {
     "data": {
      "image/png": "[encoded data removed]",
      "text/plain": [
       "<Figure size 1080x576 with 1 Axes>"
      ]
     },
     "metadata": {},
     "output_type": "display_data"
    }
   ],
   "source": [
    "sns.set(rc = {'figure.figsize':(15,8)})\n",
    "ax = sns.scatterplot(x = data['Euc'],y = data['Man'], hue=data['years'],style=data['co_id'],s = 500)\n",
    "ax.set_title('Scatter Chart')"
   ]
  },
  {
   "cell_type": "code",
   "execution_count": null,
   "id": "16f8350a",
   "metadata": {},
   "outputs": [],
   "source": []
  }
 ],
 "metadata": {
  "kernelspec": {
   "display_name": "Python 3 (ipykernel)",
   "language": "python",
   "name": "python3"
  },
  "language_info": {
   "codemirror_mode": {
    "name": "ipython",
    "version": 3
   },
   "file_extension": ".py",
   "mimetype": "text/x-python",
   "name": "python",
   "nbconvert_exporter": "python",
   "pygments_lexer": "ipython3",
   "version": "3.9.7"
  }
 },
 "nbformat": 4,
 "nbformat_minor": 5
}
