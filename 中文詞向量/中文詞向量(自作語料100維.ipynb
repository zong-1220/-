{
 "cells": [
  {
   "cell_type": "markdown",
   "metadata": {},
   "source": [
    "## 匯入套件和資料"
   ]
  },
  {
   "cell_type": "code",
   "execution_count": 2,
   "metadata": {},
   "outputs": [],
   "source": [
    "import os\n",
    "import jieba\n",
    "import numpy as np\n",
    "import csv"
   ]
  },
  {
   "cell_type": "code",
   "execution_count": 3,
   "metadata": {},
   "outputs": [],
   "source": [
    "def csv_create(file_name,model,co_id,list_name):\n",
    "    with open(file_name,model,newline='') as file:\n",
    "        writer = csv.writer(file)\n",
    "        writer.writerow(['公司名稱','95,96年','96,97年','97,98年','98,99年','99,100年','100,101年','101,102年','102,103年','103,104年','104,105年','105,106年','106,107年','107,108年','108,109年'])\n",
    "        writer.writerow([co_id]+list_name)"
   ]
  },
  {
   "cell_type": "code",
   "execution_count": 4,
   "metadata": {},
   "outputs": [
    {
     "name": "stdout",
     "output_type": "stream",
     "text": [
      "C:\\Users\\DC\\中文詞向量\\1909文字\\2006.txt\n",
      "C:\\Users\\DC\\中文詞向量\\1909文字\\2007.txt\n",
      "C:\\Users\\DC\\中文詞向量\\1909文字\\2008.txt\n",
      "C:\\Users\\DC\\中文詞向量\\1909文字\\2009.txt\n",
      "C:\\Users\\DC\\中文詞向量\\1909文字\\2010.txt\n",
      "C:\\Users\\DC\\中文詞向量\\1909文字\\2011.txt\n",
      "C:\\Users\\DC\\中文詞向量\\1909文字\\2012.txt\n",
      "C:\\Users\\DC\\中文詞向量\\1909文字\\2013.txt\n",
      "C:\\Users\\DC\\中文詞向量\\1909文字\\2014.txt\n",
      "C:\\Users\\DC\\中文詞向量\\1909文字\\2015.txt\n",
      "C:\\Users\\DC\\中文詞向量\\1909文字\\2016.txt\n",
      "C:\\Users\\DC\\中文詞向量\\1909文字\\2017.txt\n",
      "C:\\Users\\DC\\中文詞向量\\1909文字\\2018.txt\n",
      "C:\\Users\\DC\\中文詞向量\\1909文字\\2019.txt\n",
      "C:\\Users\\DC\\中文詞向量\\1909文字\\2020.txt\n"
     ]
    }
   ],
   "source": [
    "all_file = []\n",
    "txt_root = 'C:\\\\Users\\\\DC\\\\中文詞向量\\\\1909文字'\n",
    "\n",
    "for root, dirs, files in os.walk(txt_root): \n",
    "    for file in files: \n",
    "        print(root + '\\\\' + file)\n",
    "        all_file.append(root + '\\\\' + file)"
   ]
  },
  {
   "cell_type": "code",
   "execution_count": 5,
   "metadata": {},
   "outputs": [
    {
     "name": "stderr",
     "output_type": "stream",
     "text": [
      "Building prefix dict from the default dictionary ...\n",
      "Loading model from cache C:\\Users\\DC\\AppData\\Local\\Temp\\jieba.cache\n",
      "Loading model cost 0.432 seconds.\n",
      "Prefix dict has been built successfully.\n"
     ]
    }
   ],
   "source": [
    "all_txt = []\n",
    "\n",
    "for i in range(0,len(all_file)):\n",
    "    txt = open(all_file[i], 'r', encoding='utf-8').read()\n",
    "    txt = txt.replace('■','').replace('、','').replace('：','').replace('\\n','').replace(' ','').replace('●','').replace('，','').replace('│','').replace('。','').replace(',','').replace(';','').replace('(','').replace(')','').replace('；','')\n",
    "    a =jieba.lcut(txt)\n",
    "    all_txt.append(a)"
   ]
  },
  {
   "cell_type": "markdown",
   "metadata": {},
   "source": [
    "## 載入模型後將文字轉為向量！"
   ]
  },
  {
   "cell_type": "code",
   "execution_count": 6,
   "metadata": {},
   "outputs": [],
   "source": [
    "from gensim.models import word2vec\n",
    "model = word2vec.Word2Vec.load('word2vec.model') #載入模型"
   ]
  },
  {
   "cell_type": "code",
   "execution_count": 7,
   "metadata": {},
   "outputs": [
    {
     "name": "stdout",
     "output_type": "stream",
     "text": [
      "[ -14.0767565    46.24646      47.53234      19.766071    -34.680576\n",
      "   43.732487     12.477381    147.3707      -83.32169     108.468124\n",
      "   47.603924     13.609841   -198.20784     -57.676517    -55.061226\n",
      "  -75.510826   -179.09776     -13.3747015   103.2035     -106.183685\n",
      "   -6.0084286   -11.112196     23.652372    180.90865    -149.91566\n",
      "  -63.548393    -70.273964    -28.19314     -34.56816     -20.61387\n",
      "    8.137152     41.019234   -134.65855      49.59355     126.37415\n",
      "  -67.87368    -181.58687    -105.995224    -45.851757     44.116825\n",
      " -110.09431     197.76761    -187.88338    -103.735344     21.7894\n",
      "  -17.6429      -88.83157     -67.48575       0.93996143   24.815804\n",
      "  168.5646      -71.89553    -264.7222       80.78578     -86.896515\n",
      " -143.5951      -92.90249     -27.388067      6.469459    195.60455\n",
      "  -46.246902    -77.72149      70.49249    -219.9212     -174.51744\n",
      " -113.69289       5.977224      4.9034624    77.94604     -30.12458\n",
      "   93.49504     -60.85464       8.0181465    70.47467     -66.00094\n",
      "  -43.63652      -6.2235026   -35.557617     81.6783        5.8443346\n",
      " -129.5033      -46.65453       0.7759655     3.5161216  -131.57301\n",
      "   23.93071      19.11231     102.3246     -127.6181       75.40179\n",
      "   65.50906     -46.91362     -53.752174    -14.611414      8.237711\n",
      "   -6.938876    149.66574     -28.890028    187.35959      57.329975  ]\n"
     ]
    }
   ],
   "source": [
    "padding = np.zeros((model.vector_size,), dtype=np.float32) #0向量\n",
    "all_vec_add = []\n",
    "vec_add = 0\n",
    "\n",
    "for j in range(0,len(all_txt)):\n",
    "    for i in all_txt[j]:\n",
    "        try:\n",
    "            vec_add += model.wv[i]\n",
    "        except:\n",
    "            model.wv[i] = padding\n",
    "            vec_add += model.wv[i]\n",
    "    all_vec_add.append(vec_add)\n",
    "    vec_add = 0\n",
    "    \n",
    "print(all_vec_add[1])"
   ]
  },
  {
   "cell_type": "markdown",
   "metadata": {},
   "source": [
    "## 歐式計算距離寫入csv"
   ]
  },
  {
   "cell_type": "code",
   "execution_count": 8,
   "metadata": {},
   "outputs": [
    {
     "name": "stdout",
     "output_type": "stream",
     "text": [
      "57.314503\n",
      "47.251766\n",
      "299.04526\n",
      "51.25886\n",
      "62.751392\n",
      "30.821426\n",
      "376.77118\n",
      "1812.0695\n",
      "129.17519\n",
      "384.53027\n",
      "152.25471\n",
      "191.33087\n",
      "178.14421\n",
      "303.39337\n"
     ]
    }
   ],
   "source": [
    "#歐式\n",
    "Euc = []\n",
    "\n",
    "for i in range(0,len(all_vec_add)-1):\n",
    "    x = all_vec_add[i]\n",
    "    y = all_vec_add[i+1]\n",
    "    dis = np.linalg.norm( all_vec_add[i] - all_vec_add[i+1])\n",
    "    Euc.append(dis)\n",
    "    print(dis)"
   ]
  },
  {
   "cell_type": "code",
   "execution_count": 45,
   "metadata": {},
   "outputs": [],
   "source": [
    "csv_file = 'euc_per_year.csv'\n",
    "write_mode = 'w'\n",
    "co_id = '1909'\n",
    "\n",
    "csv_create(csv_file,write_mode,co_id,Euc)"
   ]
  },
  {
   "cell_type": "markdown",
   "metadata": {},
   "source": [
    "## 餘弦計算距離寫入csv"
   ]
  },
  {
   "cell_type": "code",
   "execution_count": 9,
   "metadata": {},
   "outputs": [
    {
     "name": "stdout",
     "output_type": "stream",
     "text": [
      "1.0728836059570312e-06\n",
      "1.2516975402832031e-06\n",
      "4.0531158447265625e-06\n",
      "2.3245811462402344e-06\n",
      "1.5497207641601562e-06\n",
      "1.7285346984863281e-06\n",
      "2.86102294921875e-06\n",
      "2.5033950805664062e-06\n",
      "8.940696716308594e-07\n",
      "5.364418029785156e-07\n",
      "1.1920928955078125e-07\n",
      "7.152557373046875e-07\n",
      "3.5762786865234375e-07\n",
      "2.980232238769531e-07\n"
     ]
    }
   ],
   "source": [
    "#餘弦\n",
    "Man = []\n",
    "\n",
    "for i in range(0,len(all_vec_add)-1):\n",
    "    x = all_vec_add[i]\n",
    "    y = all_vec_add[i+1]\n",
    "    \n",
    "    #小數方式\n",
    "    #np.set_printoptions(precision=10,suppress=True) #位數\n",
    "    #dis =  np.array([1 - np.dot(x,y)/(np.linalg.norm(x)*np.linalg.norm(y))])\n",
    "    \n",
    "    #科學記號方式\n",
    "    dis =  1 - np.dot(x,y)/(np.linalg.norm(x)*np.linalg.norm(y))\n",
    "    print(dis)\n",
    "    Man.append(dis)"
   ]
  },
  {
   "cell_type": "code",
   "execution_count": 32,
   "metadata": {},
   "outputs": [],
   "source": [
    "csv_file = 'man_per_year.csv'\n",
    "write_mode = 'w'\n",
    "co_id = '1909'\n",
    "\n",
    "csv_create(csv_file,write_mode,co_id,Man)"
   ]
  },
  {
   "cell_type": "markdown",
   "metadata": {},
   "source": [
    "### 其他"
   ]
  },
  {
   "cell_type": "code",
   "execution_count": 75,
   "metadata": {},
   "outputs": [
    {
     "data": {
      "text/plain": [
       "0.9796264"
      ]
     },
     "execution_count": 75,
     "metadata": {},
     "output_type": "execute_result"
    }
   ],
   "source": [
    "similarity = model.wv.similarity('股東',all_txt[0][2]) #兩點距離\n",
    "similarity"
   ]
  },
  {
   "cell_type": "code",
   "execution_count": 10,
   "metadata": {},
   "outputs": [
    {
     "name": "stdout",
     "output_type": "stream",
     "text": [
      "('年', 0.9995686411857605)\n",
      "('新', 0.999567449092865)\n",
      "('為', 0.9995562434196472)\n",
      "('，', 0.9995313882827759)\n",
      "('增加', 0.9995272159576416)\n",
      "('億元', 0.9995265007019043)\n",
      "('上', 0.9995236396789551)\n",
      "('；', 0.9995115399360657)\n",
      "('及', 0.9995063543319702)\n",
      "('下', 0.9995036721229553)\n"
     ]
    },
    {
     "name": "stderr",
     "output_type": "stream",
     "text": [
      "C:\\Users\\DC\\anaconda3\\lib\\site-packages\\gensim\\models\\keyedvectors.py:783: RuntimeWarning: invalid value encountered in true_divide\n",
      "  dists = dot(self.vectors[clip_start:clip_end], mean) / self.norms[clip_start:clip_end]\n"
     ]
    }
   ],
   "source": [
    "for item in model.wv.most_similar('營收'):\n",
    "    print(item)"
   ]
  },
  {
   "cell_type": "code",
   "execution_count": null,
   "metadata": {},
   "outputs": [],
   "source": [
    "#https://www.itread01.com/content/1548060671.html"
   ]
  }
 ],
 "metadata": {
  "kernelspec": {
   "display_name": "Python 3 (ipykernel)",
   "language": "python",
   "name": "python3"
  },
  "language_info": {
   "codemirror_mode": {
    "name": "ipython",
    "version": 3
   },
   "file_extension": ".py",
   "mimetype": "text/x-python",
   "name": "python",
   "nbconvert_exporter": "python",
   "pygments_lexer": "ipython3",
   "version": "3.9.7"
  }
 },
 "nbformat": 4,
 "nbformat_minor": 4
}
