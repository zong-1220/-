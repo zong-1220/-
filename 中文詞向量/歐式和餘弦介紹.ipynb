{
 "cells": [
  {
   "cell_type": "code",
   "execution_count": 2,
   "id": "a9ce973e",
   "metadata": {},
   "outputs": [],
   "source": [
    "import os\n",
    "import jieba\n",
    "import numpy as np"
   ]
  },
  {
   "cell_type": "code",
   "execution_count": 3,
   "id": "e7fe5fb6",
   "metadata": {},
   "outputs": [],
   "source": [
    "from gensim.models import word2vec\n",
    "model = word2vec.Word2Vec.load('wiki.model') #載入模型"
   ]
  },
  {
   "cell_type": "code",
   "execution_count": 84,
   "id": "fea78028",
   "metadata": {},
   "outputs": [],
   "source": [
    "all_txt =['棒球','棒球棒球棒球棒球','野球野球野球野球','棒球','野球']\n",
    "\n",
    "padding = np.zeros((model.vector_size,), dtype=np.float32) #0向量\n",
    "all_vec_add = []\n",
    "vec_add = 0\n",
    "\n",
    "for j in range(0,len(all_txt)):\n",
    "    for i in all_txt[j]:\n",
    "        try:\n",
    "            vec_add += model.wv[i]\n",
    "        except:\n",
    "            model.wv[i] = padding\n",
    "            vec_add += model.wv[i]\n",
    "    all_vec_add.append(vec_add)\n",
    "    vec_add = 0"
   ]
  },
  {
   "cell_type": "code",
   "execution_count": 85,
   "id": "e833d9a8",
   "metadata": {},
   "outputs": [
    {
     "name": "stdout",
     "output_type": "stream",
     "text": [
      "173.13272\n",
      "169.79538\n",
      "181.13887\n",
      "42.448845\n"
     ]
    }
   ],
   "source": [
    "Euc = []\n",
    "\n",
    "for i in range(0,len(all_vec_add)-1):\n",
    "    x = all_vec_add[i]\n",
    "    y = all_vec_add[i+1]\n",
    "    dis = np.linalg.norm( all_vec_add[i] - all_vec_add[i+1])\n",
    "    Euc.append(dis)\n",
    "    print(dis)"
   ]
  },
  {
   "cell_type": "code",
   "execution_count": 90,
   "id": "e398811b",
   "metadata": {},
   "outputs": [
    {
     "name": "stdout",
     "output_type": "stream",
     "text": [
      "0.0\n",
      "0.2849632501602173\n",
      "0.2849632501602173\n",
      "0.2849632501602173\n"
     ]
    }
   ],
   "source": [
    "Man = [] #餘弦距離\n",
    "\n",
    "for i in range(0,len(all_vec_add)-1):\n",
    "    x = all_vec_add[i]\n",
    "    y = all_vec_add[i+1]\n",
    "    dis = 1 - np.dot(x,y)/(np.linalg.norm(x)*np.linalg.norm(y))\n",
    "    print(dis)\n",
    "    Man.append(dis)"
   ]
  },
  {
   "cell_type": "code",
   "execution_count": 87,
   "id": "ff495612",
   "metadata": {},
   "outputs": [
    {
     "name": "stdout",
     "output_type": "stream",
     "text": [
      "('野球', 0.6712196469306946)\n",
      "('少棒', 0.6090686321258545)\n",
      "('職棒', 0.5992246270179749)\n",
      "('投手', 0.5625932216644287)\n",
      "('捕手', 0.5623375177383423)\n",
      "('mlb', 0.5619680881500244)\n",
      "('中職', 0.5562857985496521)\n",
      "('美式足球', 0.5450329184532166)\n",
      "('王貞治', 0.5448181629180908)\n",
      "('baseball', 0.5433060526847839)\n"
     ]
    }
   ],
   "source": [
    "for item in model.wv.most_similar('棒球'):\n",
    "    print(item)"
   ]
  },
  {
   "cell_type": "code",
   "execution_count": 93,
   "id": "f6bf9aef",
   "metadata": {},
   "outputs": [
    {
     "data": {
      "text/plain": [
       "0.71503675"
      ]
     },
     "execution_count": 93,
     "metadata": {},
     "output_type": "execute_result"
    }
   ],
   "source": [
    "#计算两列单词之间的余弦相似度——也可以用来评估文本之间的相似度\n",
    "model.wv.n_similarity('棒球','野球')"
   ]
  },
  {
   "cell_type": "code",
   "execution_count": 92,
   "id": "5db6941c",
   "metadata": {},
   "outputs": [
    {
     "data": {
      "text/plain": [
       "0.6712196"
      ]
     },
     "execution_count": 92,
     "metadata": {},
     "output_type": "execute_result"
    }
   ],
   "source": [
    "#计算2个词之间的余弦相似度\n",
    "model.wv.similarity('棒球','野球')"
   ]
  },
  {
   "cell_type": "code",
   "execution_count": null,
   "id": "8beebf72",
   "metadata": {},
   "outputs": [],
   "source": []
  }
 ],
 "metadata": {
  "kernelspec": {
   "display_name": "Python 3 (ipykernel)",
   "language": "python",
   "name": "python3"
  },
  "language_info": {
   "codemirror_mode": {
    "name": "ipython",
    "version": 3
   },
   "file_extension": ".py",
   "mimetype": "text/x-python",
   "name": "python",
   "nbconvert_exporter": "python",
   "pygments_lexer": "ipython3",
   "version": "3.9.7"
  }
 },
 "nbformat": 4,
 "nbformat_minor": 5
}
