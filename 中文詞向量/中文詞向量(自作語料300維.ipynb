{
 "cells": [
  {
   "cell_type": "markdown",
   "metadata": {},
   "source": [
    "## 匯入套件和資料"
   ]
  },
  {
   "cell_type": "code",
   "execution_count": 1,
   "metadata": {},
   "outputs": [],
   "source": [
    "import os\n",
    "import jieba\n",
    "import numpy as np\n",
    "import csv\n",
    "import pandas as pd"
   ]
  },
  {
   "cell_type": "code",
   "execution_count": 2,
   "metadata": {},
   "outputs": [],
   "source": [
    "def csv_create(file_name,model,co_id,list_name):\n",
    "    with open(file_name,model,newline='') as file:\n",
    "        writer = csv.writer(file)\n",
    "        writer.writerow(['公司名稱','95,96年','96,97年','97,98年','98,99年','99,100年','100,101年','101,102年','102,103年','103,104年','104,105年','105,106年','106,107年','107,108年','108,109年'])\n",
    "        writer.writerow([co_id]+list_name)"
   ]
  },
  {
   "cell_type": "code",
   "execution_count": 3,
   "metadata": {},
   "outputs": [
    {
     "name": "stdout",
     "output_type": "stream",
     "text": [
      "C:\\Users\\DC\\中文詞向量\\1909文字\\2006.txt\n",
      "C:\\Users\\DC\\中文詞向量\\1909文字\\2007.txt\n",
      "C:\\Users\\DC\\中文詞向量\\1909文字\\2008.txt\n",
      "C:\\Users\\DC\\中文詞向量\\1909文字\\2009.txt\n",
      "C:\\Users\\DC\\中文詞向量\\1909文字\\2010.txt\n",
      "C:\\Users\\DC\\中文詞向量\\1909文字\\2011.txt\n",
      "C:\\Users\\DC\\中文詞向量\\1909文字\\2012.txt\n",
      "C:\\Users\\DC\\中文詞向量\\1909文字\\2013.txt\n",
      "C:\\Users\\DC\\中文詞向量\\1909文字\\2014.txt\n",
      "C:\\Users\\DC\\中文詞向量\\1909文字\\2015.txt\n",
      "C:\\Users\\DC\\中文詞向量\\1909文字\\2016.txt\n",
      "C:\\Users\\DC\\中文詞向量\\1909文字\\2017.txt\n",
      "C:\\Users\\DC\\中文詞向量\\1909文字\\2018.txt\n",
      "C:\\Users\\DC\\中文詞向量\\1909文字\\2019.txt\n",
      "C:\\Users\\DC\\中文詞向量\\1909文字\\2020.txt\n"
     ]
    }
   ],
   "source": [
    "all_file = []\n",
    "txt_root = 'C:\\\\Users\\\\DC\\\\中文詞向量\\\\1909文字'\n",
    "\n",
    "for root, dirs, files in os.walk(txt_root): \n",
    "    for file in files: \n",
    "        print(root + '\\\\' + file)\n",
    "        all_file.append(root + '\\\\' + file)"
   ]
  },
  {
   "cell_type": "code",
   "execution_count": 4,
   "metadata": {},
   "outputs": [
    {
     "name": "stderr",
     "output_type": "stream",
     "text": [
      "Building prefix dict from the default dictionary ...\n",
      "Loading model from cache C:\\Users\\DC\\AppData\\Local\\Temp\\jieba.cache\n",
      "Loading model cost 0.435 seconds.\n",
      "Prefix dict has been built successfully.\n"
     ]
    }
   ],
   "source": [
    "all_txt = []\n",
    "\n",
    "for i in range(0,len(all_file)):\n",
    "    txt = open(all_file[i], 'r', encoding='utf-8').read()\n",
    "    txt = txt.replace('■','').replace('、','').replace('：','').replace('\\n','').replace(' ','').replace('●','').replace('，','').replace('│','').replace('。','').replace(',','').replace(';','').replace('(','').replace(')','').replace('；','')\n",
    "    a =jieba.lcut(txt)\n",
    "    all_txt.append(a)"
   ]
  },
  {
   "cell_type": "markdown",
   "metadata": {},
   "source": [
    "## 載入模型後將文字轉為向量！"
   ]
  },
  {
   "cell_type": "code",
   "execution_count": 5,
   "metadata": {},
   "outputs": [],
   "source": [
    "from gensim.models import word2vec\n",
    "model = word2vec.Word2Vec.load('word300.model') #載入模型"
   ]
  },
  {
   "cell_type": "code",
   "execution_count": 6,
   "metadata": {
    "scrolled": true
   },
   "outputs": [
    {
     "name": "stdout",
     "output_type": "stream",
     "text": [
      "[ 3.50088425e+01  4.77968178e+01  1.41553736e+01 -4.53406525e+01\n",
      "  2.59528675e+01  2.83755894e+01  7.65147934e+01  4.87334709e+01\n",
      " -5.18335991e+01  2.21948051e+01 -2.68511925e+01  2.58889656e+01\n",
      " -6.53080063e+01 -6.99132462e+01 -3.89551239e+01 -3.55277939e+01\n",
      " -1.07396797e+02 -1.62416327e+00 -3.31893849e+00  2.90915146e+01\n",
      "  2.85854549e+01 -7.57651377e+00  9.65745621e+01  4.73824463e+01\n",
      " -7.36086578e+01  2.44867725e+01  9.20202923e+00  4.50790672e+01\n",
      " -1.36391211e+01  1.98512936e+01 -3.02513981e+01 -3.42723770e+01\n",
      " -1.02968712e+02  6.28772240e+01  4.36986389e+01  8.15570374e+01\n",
      " -7.89771576e+01  2.15123520e+01 -3.98312569e+01  1.96262531e+01\n",
      " -2.54308724e+00  4.16065750e+01 -4.58424606e+01 -2.94210148e+01\n",
      "  3.22047920e+01 -5.94070005e+00 -1.20474939e+01 -6.01595603e-02\n",
      " -4.35034065e+01  1.11294308e+01  6.43957443e+01 -6.51241226e+01\n",
      " -5.99888763e+01 -1.55930605e+01 -3.07176208e+01  3.90762138e+01\n",
      "  2.11125088e+00 -8.30321960e+01 -3.74248352e+01  3.03004246e+01\n",
      "  2.99406281e+01 -7.01422806e+01  1.00796196e+02 -7.51474838e+01\n",
      " -2.18463268e+01  6.00539627e+01 -8.73837757e+00 -5.10595226e+00\n",
      " -1.68174744e+01  1.17431087e+01 -6.49222488e+01  1.59163332e+01\n",
      "  6.37171783e+01  2.43783264e+01 -6.38590660e+01 -3.37271423e+01\n",
      "  9.12476044e+01 -1.02240334e+02 -5.63243942e+01  5.78567314e+01\n",
      " -9.81543655e+01  2.15618629e+01 -5.15583382e+01 -1.10968590e+02\n",
      " -6.90399551e+01 -5.31346970e+01 -5.86732025e+01  1.02964869e+01\n",
      " -4.45853462e+01  6.34485779e+01 -1.59124684e+00 -6.95727310e+01\n",
      " -4.84124565e+01  1.12578382e+01 -2.14206390e+01 -5.96473236e+01\n",
      "  2.02449703e+01 -1.93156929e+01  4.55600204e+01  1.53968306e+01\n",
      "  1.20316019e+01 -6.19903793e+01  3.40701485e+01 -1.09433250e+01\n",
      " -3.07149048e+01 -2.31180840e+01 -1.21053944e+01  3.75606308e+01\n",
      " -6.87459488e+01  7.27867737e+01  2.09597263e+01 -3.88192406e+01\n",
      " -1.02551773e+02  1.43634043e+01 -9.61956882e+00 -8.16506863e+00\n",
      "  3.33906364e+01  3.35531545e+00  2.16214165e-01 -9.93196869e+01\n",
      " -6.03690262e+01  7.09720373e+00  1.42777882e+01  8.77508774e+01\n",
      "  1.84179916e+01 -6.75759583e+01  7.54007492e+01 -1.31852713e+01\n",
      " -4.17993279e+01 -3.45558205e+01 -6.57328558e+00  2.48549080e+01\n",
      "  3.06961536e+01  2.70173035e+01  4.90539513e+01 -5.63797836e+01\n",
      " -2.92989750e+01 -1.00905495e+02  4.12151070e+01  9.91037846e+00\n",
      " -2.52063484e+01 -2.63017063e+01 -8.71286011e+01  3.92973747e+01\n",
      "  2.45102882e+01 -2.84891462e+00 -8.29322510e+01 -1.67955170e+01\n",
      " -3.13752804e+01 -4.24685020e+01  2.57455845e+01 -3.38716531e+00\n",
      " -3.99955788e+01  8.79596710e+00 -4.92845230e+01 -2.19898949e+01\n",
      " -8.17432175e+01  3.66979294e+01 -2.41278381e+01  1.08247917e+02\n",
      " -4.28362808e+01  2.50951805e+01 -4.69596062e+01 -1.08952858e+02\n",
      " -4.76369095e+01 -2.31490040e+01  7.68634272e+00  5.52733955e+01\n",
      "  4.61461906e+01 -4.18430214e+01  1.05418716e+02 -3.96019707e+01\n",
      " -6.63316905e-01  4.80464172e+01  1.18990761e+02  3.01094112e+01\n",
      " -6.09645233e+01 -2.78932800e+01  6.00811386e+01 -4.48898277e+01\n",
      " -4.50224648e+01  2.98426952e+01 -6.05518036e+01  1.70050526e+01\n",
      "  4.79078751e+01  4.16477623e+01 -1.33318031e+00  5.16338577e+01\n",
      " -3.04987507e+01 -5.67948494e+01  7.56878586e+01 -4.97125664e+01\n",
      " -4.70101166e+01 -3.71702271e+01  1.51120687e+00  3.89635420e+00\n",
      " -4.53931618e+00 -1.06689901e+01  1.03544760e+01 -1.07484007e+01\n",
      " -6.17681122e+01  2.95424328e+01 -3.52571793e+01  4.95836372e+01\n",
      " -2.45645046e+01  9.99847488e+01  1.64443645e+01 -1.71146832e+01\n",
      "  1.09083338e+01  3.51008835e+01  6.90054779e+01 -1.44970560e+01\n",
      "  2.39931431e+01  4.34445915e+01 -2.36686764e+01 -1.01710615e+01\n",
      "  3.39966965e+00 -9.80314789e+01  8.41034470e+01 -8.30182571e+01\n",
      "  3.60999565e+01  8.75299377e+01 -8.38862381e+01  1.10585434e+02\n",
      " -5.37770424e+01  2.47705688e+01 -9.66022263e+01 -4.06394196e+01\n",
      " -2.63914852e+01 -3.14659882e+00  7.01679077e+01  6.48077698e+01\n",
      "  5.96309319e+01 -2.61946106e+01  4.49611330e+00 -4.85858688e+01\n",
      "  1.31484833e+01  3.29637146e+01 -7.04796600e+01  6.36474380e+01\n",
      " -4.22697792e+01  2.56053734e+01  1.85641556e+01 -4.37702675e+01\n",
      "  3.07091789e+01  8.01690979e+01  1.29988890e+01 -8.20566254e+01\n",
      " -4.43619519e-01 -8.53272974e-02 -7.29284763e+00  1.16252998e+02\n",
      " -4.02290802e+01  3.83651495e+00 -2.89166355e+01 -1.00119522e+02\n",
      "  5.38822699e+00 -2.26136036e+01  2.48935165e+01  1.20050879e+01\n",
      " -1.53509855e+01 -6.31498604e+01  6.55006561e+01 -2.21240559e+01\n",
      " -6.08779335e+01 -9.64616776e+00 -6.11295509e+01 -5.42672386e+01\n",
      "  8.84504890e+00  6.12561951e+01  7.07068863e+01  2.84861870e+01\n",
      " -3.59379959e+01 -5.19211817e+00  2.49222660e+00 -3.12332077e+01\n",
      "  1.87210140e+01  8.85428696e+01 -4.08818626e+01 -1.21928759e+01\n",
      "  5.62086821e+00 -4.51449013e+01  1.20623123e+02  9.41870880e+01\n",
      " -1.13122307e+02  3.03609829e+01  3.53975143e+01  3.82896347e+01\n",
      " -6.18917770e+01  1.79763355e+01  6.23570786e+01  6.48492279e+01\n",
      "  8.00127869e+01 -1.84157581e+01  2.32862034e+01  7.82335205e+01\n",
      "  7.74114075e+01 -4.42568893e+01  4.88871689e+01  4.30201073e+01]\n"
     ]
    }
   ],
   "source": [
    "padding = np.zeros((model.vector_size,), dtype=np.float32) #0向量\n",
    "all_vec_add = []\n",
    "vec_add = 0\n",
    "\n",
    "for j in range(0,len(all_txt)):\n",
    "    for i in all_txt[j]:\n",
    "        try:\n",
    "            vec_add += model.wv[i]\n",
    "        except:\n",
    "            model.wv[i] = padding\n",
    "            vec_add += model.wv[i]\n",
    "    all_vec_add.append(vec_add)\n",
    "    vec_add = 0\n",
    "    \n",
    "print(all_vec_add[1])"
   ]
  },
  {
   "cell_type": "markdown",
   "metadata": {},
   "source": [
    "## 歐式計算距離寫入csv"
   ]
  },
  {
   "cell_type": "code",
   "execution_count": 8,
   "metadata": {},
   "outputs": [
    {
     "name": "stdout",
     "output_type": "stream",
     "text": [
      "54.133915\n",
      "43.062218\n",
      "287.33676\n",
      "45.87058\n",
      "59.09678\n",
      "28.84357\n",
      "349.75732\n",
      "1684.4163\n",
      "117.87473\n",
      "360.80096\n",
      "143.11743\n",
      "173.32533\n",
      "166.95586\n",
      "281.5997\n"
     ]
    }
   ],
   "source": [
    "#歐式\n",
    "Euc = []\n",
    "\n",
    "for i in range(0,len(all_vec_add)-1):\n",
    "    x = all_vec_add[i]\n",
    "    y = all_vec_add[i+1]\n",
    "    dis = np.linalg.norm( all_vec_add[i] - all_vec_add[i+1])\n",
    "    Euc.append(dis)\n",
    "    print(dis)"
   ]
  },
  {
   "cell_type": "code",
   "execution_count": 45,
   "metadata": {},
   "outputs": [],
   "source": [
    "csv_file = 'euc_per_year.csv'\n",
    "write_mode = 'w'\n",
    "co_id = '1909'\n",
    "\n",
    "csv_create(csv_file,write_mode,co_id,Euc)"
   ]
  },
  {
   "cell_type": "markdown",
   "metadata": {},
   "source": [
    "## 餘弦計算距離寫入csv"
   ]
  },
  {
   "cell_type": "code",
   "execution_count": 7,
   "metadata": {},
   "outputs": [
    {
     "name": "stdout",
     "output_type": "stream",
     "text": [
      "3.5762786865234375e-07\n",
      "5.960464477539062e-07\n",
      "1.6689300537109375e-06\n",
      "8.940696716308594e-07\n",
      "6.556510925292969e-07\n",
      "4.76837158203125e-07\n",
      "1.0132789611816406e-06\n",
      "7.152557373046875e-07\n",
      "4.172325134277344e-07\n",
      "2.384185791015625e-07\n",
      "5.960464477539063e-08\n",
      "2.384185791015625e-07\n",
      "2.384185791015625e-07\n",
      "2.384185791015625e-07\n"
     ]
    }
   ],
   "source": [
    "#餘弦\n",
    "Man = []\n",
    "\n",
    "for i in range(0,len(all_vec_add)-1):\n",
    "    x = all_vec_add[i]\n",
    "    y = all_vec_add[i+1]\n",
    "    \n",
    "    #小數方式\n",
    "    #np.set_printoptions(precision=10,suppress=True) #位數\n",
    "    #dis =  np.array([1 - np.dot(x,y)/(np.linalg.norm(x)*np.linalg.norm(y))])\n",
    "    \n",
    "    #科學記號方式\n",
    "    dis =  1 - np.dot(x,y)/(np.linalg.norm(x)*np.linalg.norm(y))\n",
    "    print(dis)\n",
    "    Man.append(dis)"
   ]
  },
  {
   "cell_type": "code",
   "execution_count": 32,
   "metadata": {},
   "outputs": [],
   "source": [
    "csv_file = 'man_per_year.csv'\n",
    "write_mode = 'w'\n",
    "co_id = '1909'\n",
    "\n",
    "csv_create(csv_file,write_mode,co_id,Man)"
   ]
  },
  {
   "cell_type": "markdown",
   "metadata": {},
   "source": [
    "### 其他"
   ]
  },
  {
   "cell_type": "code",
   "execution_count": 75,
   "metadata": {},
   "outputs": [
    {
     "data": {
      "text/plain": [
       "0.9796264"
      ]
     },
     "execution_count": 75,
     "metadata": {},
     "output_type": "execute_result"
    }
   ],
   "source": [
    "similarity = model.wv.similarity('股東',all_txt[0][2]) #兩點距離\n",
    "similarity"
   ]
  },
  {
   "cell_type": "code",
   "execution_count": 12,
   "metadata": {},
   "outputs": [
    {
     "name": "stdout",
     "output_type": "stream",
     "text": [
      "('億元', 0.9998481273651123)\n",
      "('年', 0.9998316168785095)\n",
      "(',', 0.9998290538787842)\n",
      "('，', 0.9998282790184021)\n",
      "('併', 0.9998176693916321)\n",
      "('新', 0.9998173117637634)\n",
      "('年', 0.9998149871826172)\n",
      "('為', 0.9998137950897217)\n",
      "('較', 0.9998124241828918)\n",
      "('萬噸', 0.9998113512992859)\n"
     ]
    }
   ],
   "source": [
    "for item in model.wv.most_similar('營收'):\n",
    "    print(item)"
   ]
  },
  {
   "cell_type": "code",
   "execution_count": null,
   "metadata": {},
   "outputs": [],
   "source": [
    "#https://www.itread01.com/content/1548060671.html"
   ]
  }
 ],
 "metadata": {
  "kernelspec": {
   "display_name": "Python 3 (ipykernel)",
   "language": "python",
   "name": "python3"
  },
  "language_info": {
   "codemirror_mode": {
    "name": "ipython",
    "version": 3
   },
   "file_extension": ".py",
   "mimetype": "text/x-python",
   "name": "python",
   "nbconvert_exporter": "python",
   "pygments_lexer": "ipython3",
   "version": "3.9.7"
  }
 },
 "nbformat": 4,
 "nbformat_minor": 4
}
